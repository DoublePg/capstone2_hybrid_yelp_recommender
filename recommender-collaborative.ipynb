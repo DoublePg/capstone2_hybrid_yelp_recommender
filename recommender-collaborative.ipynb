{
 "cells": [
  {
   "cell_type": "markdown",
   "metadata": {},
   "source": [
    "**Recommender system-collaborative filtering module:**<br>\n",
    "\n",
    "With user_id x restaurant_id rating matrix, build a collaborative filtering recommender module. Remember that the dataset has a total of 1,518,169 users, 188,593 businesses and 5,996,995 reviews. In terms of the user_id x business_id matrix, the matrix is very sparse (0.003% non-empty). Therefore, matrix factorization algorithm is used to complete the matrix and generate recommendations.<br>\n",
    "\n",
    "* Metrics chosen for evaluating the ‘goodness’ of the algorithms:<br>\n",
    "RMSE(root mean squared error) is used here to measure rating prediction accuracy."
   ]
  },
  {
   "cell_type": "code",
   "execution_count": 1,
   "metadata": {},
   "outputs": [
    {
     "name": "stderr",
     "output_type": "stream",
     "text": [
      "/anaconda3/lib/python3.6/importlib/_bootstrap.py:219: RuntimeWarning: numpy.dtype size changed, may indicate binary incompatibility. Expected 96, got 88\n",
      "  return f(*args, **kwds)\n",
      "/anaconda3/lib/python3.6/importlib/_bootstrap.py:219: RuntimeWarning: numpy.dtype size changed, may indicate binary incompatibility. Expected 96, got 88\n",
      "  return f(*args, **kwds)\n"
     ]
    }
   ],
   "source": [
    "import pandas as pd\n",
    "import numpy as np\n",
    "import pickle\n",
    "%matplotlib inline\n",
    "import matplotlib.pyplot as plt\n",
    "\n",
    "business = pd.read_csv('business_clean.csv')  # contains business data including location data, attributes and categories\n",
    "review = pd.read_csv('review_clean.csv') # contains full review text data including the user_id that wrote the review and the business_id the review is written for"
   ]
  },
  {
   "cell_type": "markdown",
   "metadata": {},
   "source": [
    "# 1. Adjusted rating"
   ]
  },
  {
   "cell_type": "markdown",
   "metadata": {},
   "source": [
    "Here, a single metric is introduced as a substitute of the original average restaurant rating ('stars' column of the business dataframe). Ideally, the new metric should take into consideration: <br>\n",
    "1) average rating of the restaurant (indicates the goodness of the restaurant, but does not consider popularity) <br>\n",
    "2) # of ratings by users (indicates popularity, but does not imply the goodness of the restaurant) <br>\n",
    "3) age of the rating (indicates the relevance of the rating, as outdated ratings might fail to indicate the actual quality)<br>\n",
    "\n",
    "The proposed new score is: \n",
    "$$score_i = \\frac{\\sum_u r_{ui} + k*\\mu}{n_i+k}$$\n",
    "\n",
    "where $r_ui$ is the rating on item i by user u, $n_i$ is the number of rating on item i, $\\mu$ is the global mean of ratings over all businesses and all users and k is the strength of the damping term.\n",
    "\n",
    "As the equation shows, the adjusted score uses the mechanism of the damped mean to regulate the extreme cases of having only a few extreme ratings. k controls the strength of the damping effect: the larger k is, the more actual ratings are required to overcome the global mean.\n",
    "\n",
    "In this case, k is set to 4 (which is the 10% quantile of the review counts for all businesses), but it can be tuned according to various business considerations.  \n",
    "\n",
    "Note:<br> \n",
    "Here, the age of the rating is not adjusted in the current version of the proposed metric. This is because 90% of the reviews/ratings are from year 2011 and later, and are considered quite relevant. Therefore, the need of adjusting for the age of the ratings is not strong."
   ]
  },
  {
   "cell_type": "code",
   "execution_count": 2,
   "metadata": {},
   "outputs": [
    {
     "name": "stdout",
     "output_type": "stream",
     "text": [
      "global mean rating is: 3.7277814701620127\n"
     ]
    }
   ],
   "source": [
    "# compute globe mean ratings of all businesses and all reviews\n",
    "globe_mean = ((business.stars * business.review_count).sum())/(business.review_count.sum())\n",
    "print(\"global mean rating is:\", globe_mean)"
   ]
  },
  {
   "cell_type": "code",
   "execution_count": 3,
   "metadata": {},
   "outputs": [
    {
     "name": "stdout",
     "output_type": "stream",
     "text": [
      "0.10      4.0\n",
      "0.25      8.0\n",
      "0.50     22.0\n",
      "0.75     66.0\n",
      "0.90    172.0\n",
      "Name: review_count, dtype: float64\n",
      "\n",
      "rank by the adjusted score in descending order:\n",
      "       review_count  stars  adjusted_score\n",
      "7464           1746    5.0        4.984169\n",
      "31910          1380    5.0        4.980037\n",
      "45401           547    5.0        4.950811\n",
      "7784            520    5.0        4.948360\n",
      "28162           472    5.0        4.943342\n",
      "\n",
      "rank by the original score in descending order:\n",
      "       review_count  stars  adjusted_score\n",
      "22115             7    5.0        4.034869\n",
      "23114             5    5.0        3.963377\n",
      "42990             5    5.0        3.963377\n",
      "42989            16    5.0        4.263452\n",
      "12778             3    5.0        3.880448\n",
      "\n",
      "rank by the least number of reviews:\n",
      "       review_count  stars  adjusted_score\n",
      "0                 3    4.5        3.820448\n",
      "5707              3    4.0        3.760448\n",
      "16594             3    4.0        3.760448\n",
      "5699              3    3.5        3.700448\n",
      "16605             3    3.5        3.700448\n"
     ]
    }
   ],
   "source": [
    "print(business.review_count.quantile([0.1,0.25,0.5,0.75,0.9]))\n",
    "k = 22 # set strength k to 22, which is the 50% quantile of the review counts for all businesses\n",
    "business['adjusted_score'] = (business.review_count * business.stars + k * globe_mean)/(business.review_count + k)\n",
    "print(\"\\nrank by the adjusted score in descending order:\")\n",
    "print(business[['review_count','stars','adjusted_score']].sort_values('adjusted_score', ascending=False).head(5))\n",
    "print(\"\\nrank by the original score in descending order:\")\n",
    "print(business[['review_count','stars','adjusted_score']].sort_values('stars', ascending=False).head(5))\n",
    "print(\"\\nrank by the least number of reviews:\")\n",
    "print(business[['review_count','stars','adjusted_score']].sort_values('review_count', ascending=True).head(5))"
   ]
  },
  {
   "cell_type": "markdown",
   "metadata": {},
   "source": [
    "# 2. User-restaurant Matrix factorization"
   ]
  },
  {
   "cell_type": "markdown",
   "metadata": {},
   "source": [
    "## 2.1 preparation"
   ]
  },
  {
   "cell_type": "markdown",
   "metadata": {},
   "source": [
    "### 2.1.1 check business_id"
   ]
  },
  {
   "cell_type": "code",
   "execution_count": 4,
   "metadata": {},
   "outputs": [
    {
     "name": "stdout",
     "output_type": "stream",
     "text": [
      "# of restaurants in the business dataset:  47553\n",
      "# of businesses in the review dataset:  188593\n"
     ]
    }
   ],
   "source": [
    "print(\"# of restaurants in the business dataset: \", business.business_id.nunique())\n",
    "print(\"# of businesses in the review dataset: \", review.business_id.nunique())"
   ]
  },
  {
   "cell_type": "code",
   "execution_count": 5,
   "metadata": {},
   "outputs": [
    {
     "data": {
      "text/plain": [
       "True"
      ]
     },
     "execution_count": 5,
     "metadata": {},
     "output_type": "execute_result"
    }
   ],
   "source": [
    "b_bid = set(business.business_id.values) # set of unique business_id in the 'business' dataset\n",
    "r_bid = set(review.business_id.values) # set of unique business_id in the 'review' dataset\n",
    "len(b_bid) == len(b_bid.intersection(r_bid))"
   ]
  },
  {
   "cell_type": "markdown",
   "metadata": {},
   "source": [
    "As shown, all the restaurant 'business_id' from the 'business' dataset can be found in the 'review' dataset, that is, every restaurant in the catalog has rated by at least one user. "
   ]
  },
  {
   "cell_type": "code",
   "execution_count": 6,
   "metadata": {},
   "outputs": [],
   "source": [
    "review_partial = review[review.business_id.isin(list(business.business_id.unique()))].reset_index(drop=True)"
   ]
  },
  {
   "cell_type": "code",
   "execution_count": 7,
   "metadata": {},
   "outputs": [
    {
     "name": "stdout",
     "output_type": "stream",
     "text": [
      "5996995\n",
      "3469589\n"
     ]
    }
   ],
   "source": [
    "print(len(review))\n",
    "print(len(review_partial))"
   ]
  },
  {
   "cell_type": "code",
   "execution_count": 8,
   "metadata": {},
   "outputs": [
    {
     "name": "stdout",
     "output_type": "stream",
     "text": [
      "1518168\n",
      "988296\n"
     ]
    }
   ],
   "source": [
    "print(review.user_id.nunique())\n",
    "print(review_partial.user_id.nunique())"
   ]
  },
  {
   "cell_type": "markdown",
   "metadata": {},
   "source": [
    "As shown, the 'review' dataframe contains many reviews on non-restaurant businesses. But if filtering the 'review' df by only restaurant related reviews, then the user coverage drops significantly to only 65% of the original coverage. Therefore, the entire 'review' dataframe will be used in collaborative filtering for the maximum user coverage.  "
   ]
  },
  {
   "cell_type": "markdown",
   "metadata": {},
   "source": [
    "### 2.1.2 check unique user - restaurant combination"
   ]
  },
  {
   "cell_type": "code",
   "execution_count": 9,
   "metadata": {},
   "outputs": [
    {
     "data": {
      "text/html": [
       "<div>\n",
       "<style scoped>\n",
       "    .dataframe tbody tr th:only-of-type {\n",
       "        vertical-align: middle;\n",
       "    }\n",
       "\n",
       "    .dataframe tbody tr th {\n",
       "        vertical-align: top;\n",
       "    }\n",
       "\n",
       "    .dataframe thead th {\n",
       "        text-align: right;\n",
       "    }\n",
       "</style>\n",
       "<table border=\"1\" class=\"dataframe\">\n",
       "  <thead>\n",
       "    <tr style=\"text-align: right;\">\n",
       "      <th></th>\n",
       "      <th>funny</th>\n",
       "      <th>stars</th>\n",
       "      <th>useful</th>\n",
       "      <th>cool</th>\n",
       "      <th>text</th>\n",
       "      <th>business_id</th>\n",
       "      <th>user_id</th>\n",
       "      <th>review_id</th>\n",
       "      <th>date</th>\n",
       "    </tr>\n",
       "  </thead>\n",
       "  <tbody>\n",
       "    <tr>\n",
       "      <th>2055037</th>\n",
       "      <td>0</td>\n",
       "      <td>1</td>\n",
       "      <td>0</td>\n",
       "      <td>0</td>\n",
       "      <td>This place continues to be a shit hole, with P...</td>\n",
       "      <td>xKQVtEWiPK6hq0DljVnAfg</td>\n",
       "      <td>XNzChtoNOw706kps82x0Kg</td>\n",
       "      <td>1l-mU-BwQsZRW7BKdHVwZw</td>\n",
       "      <td>2017-05-02</td>\n",
       "    </tr>\n",
       "    <tr>\n",
       "      <th>2055038</th>\n",
       "      <td>0</td>\n",
       "      <td>1</td>\n",
       "      <td>8</td>\n",
       "      <td>0</td>\n",
       "      <td>My mother recently spent a good deal of time i...</td>\n",
       "      <td>xKQVtEWiPK6hq0DljVnAfg</td>\n",
       "      <td>XNzChtoNOw706kps82x0Kg</td>\n",
       "      <td>IcpPtd37iJEthZybuasS4g</td>\n",
       "      <td>2015-02-06</td>\n",
       "    </tr>\n",
       "    <tr>\n",
       "      <th>4591943</th>\n",
       "      <td>0</td>\n",
       "      <td>5</td>\n",
       "      <td>0</td>\n",
       "      <td>0</td>\n",
       "      <td>I had someone give me a facial and ruined my f...</td>\n",
       "      <td>V_oOjMVRXnr_t_9i1CSivw</td>\n",
       "      <td>8GpM-QUlb0V9DP56Xse3EA</td>\n",
       "      <td>I8v-5jfkBluyN5kT8ha0bA</td>\n",
       "      <td>2016-08-26</td>\n",
       "    </tr>\n",
       "    <tr>\n",
       "      <th>4591944</th>\n",
       "      <td>1</td>\n",
       "      <td>5</td>\n",
       "      <td>2</td>\n",
       "      <td>0</td>\n",
       "      <td>I had someone give me a facial and ruined my f...</td>\n",
       "      <td>V_oOjMVRXnr_t_9i1CSivw</td>\n",
       "      <td>8GpM-QUlb0V9DP56Xse3EA</td>\n",
       "      <td>6vc4tqVh9_tbMRtFeS4pIw</td>\n",
       "      <td>2016-07-09</td>\n",
       "    </tr>\n",
       "    <tr>\n",
       "      <th>5154278</th>\n",
       "      <td>0</td>\n",
       "      <td>5</td>\n",
       "      <td>0</td>\n",
       "      <td>1</td>\n",
       "      <td>I always stop by DFEF for my morning fix every...</td>\n",
       "      <td>7MacgLhLGiXvZoZdhgeKPw</td>\n",
       "      <td>lLF9x4I41LFFKa_FX-lkbQ</td>\n",
       "      <td>HFgn9Wz2jydIZLtqUeGu0Q</td>\n",
       "      <td>2017-06-03</td>\n",
       "    </tr>\n",
       "    <tr>\n",
       "      <th>5154279</th>\n",
       "      <td>0</td>\n",
       "      <td>5</td>\n",
       "      <td>1</td>\n",
       "      <td>0</td>\n",
       "      <td>I always stop by DFEF for my morning fix every...</td>\n",
       "      <td>7MacgLhLGiXvZoZdhgeKPw</td>\n",
       "      <td>lLF9x4I41LFFKa_FX-lkbQ</td>\n",
       "      <td>HR1JWyemX-kmNFaQ5LxR2g</td>\n",
       "      <td>2017-01-03</td>\n",
       "    </tr>\n",
       "  </tbody>\n",
       "</table>\n",
       "</div>"
      ],
      "text/plain": [
       "         funny  stars  useful  cool  \\\n",
       "2055037      0      1       0     0   \n",
       "2055038      0      1       8     0   \n",
       "4591943      0      5       0     0   \n",
       "4591944      1      5       2     0   \n",
       "5154278      0      5       0     1   \n",
       "5154279      0      5       1     0   \n",
       "\n",
       "                                                      text  \\\n",
       "2055037  This place continues to be a shit hole, with P...   \n",
       "2055038  My mother recently spent a good deal of time i...   \n",
       "4591943  I had someone give me a facial and ruined my f...   \n",
       "4591944  I had someone give me a facial and ruined my f...   \n",
       "5154278  I always stop by DFEF for my morning fix every...   \n",
       "5154279  I always stop by DFEF for my morning fix every...   \n",
       "\n",
       "                    business_id                 user_id  \\\n",
       "2055037  xKQVtEWiPK6hq0DljVnAfg  XNzChtoNOw706kps82x0Kg   \n",
       "2055038  xKQVtEWiPK6hq0DljVnAfg  XNzChtoNOw706kps82x0Kg   \n",
       "4591943  V_oOjMVRXnr_t_9i1CSivw  8GpM-QUlb0V9DP56Xse3EA   \n",
       "4591944  V_oOjMVRXnr_t_9i1CSivw  8GpM-QUlb0V9DP56Xse3EA   \n",
       "5154278  7MacgLhLGiXvZoZdhgeKPw  lLF9x4I41LFFKa_FX-lkbQ   \n",
       "5154279  7MacgLhLGiXvZoZdhgeKPw  lLF9x4I41LFFKa_FX-lkbQ   \n",
       "\n",
       "                      review_id        date  \n",
       "2055037  1l-mU-BwQsZRW7BKdHVwZw  2017-05-02  \n",
       "2055038  IcpPtd37iJEthZybuasS4g  2015-02-06  \n",
       "4591943  I8v-5jfkBluyN5kT8ha0bA  2016-08-26  \n",
       "4591944  6vc4tqVh9_tbMRtFeS4pIw  2016-07-09  \n",
       "5154278  HFgn9Wz2jydIZLtqUeGu0Q  2017-06-03  \n",
       "5154279  HR1JWyemX-kmNFaQ5LxR2g  2017-01-03  "
      ]
     },
     "execution_count": 9,
     "metadata": {},
     "output_type": "execute_result"
    }
   ],
   "source": [
    "# doublecheck that there is only one review for each user_id, business_id combinations before pivoting to user x restaurant matrix\n",
    "review[review.duplicated(['user_id','business_id'], keep=False)]"
   ]
  },
  {
   "cell_type": "markdown",
   "metadata": {},
   "source": [
    "As shown, there are three user, restaurant combinations having two reviews each (at different timestamp with different text contents) instead of one. This means that Yelp allows a user  to review a business multiple times. In this case, the repeated reviews share the same star ratings as the originial, therefore, we only need the keep the first rating. (Otherwise, we need to replace it with the averaged rating instead)"
   ]
  },
  {
   "cell_type": "code",
   "execution_count": 10,
   "metadata": {},
   "outputs": [],
   "source": [
    "# create a reduced copy by removing the duplicated user, restaurant rating combinations\n",
    "review_r = review[~review.duplicated(['user_id','business_id'], keep='first')]\n",
    "review_r.reset_index(inplace=True, drop=True)"
   ]
  },
  {
   "cell_type": "code",
   "execution_count": 11,
   "metadata": {},
   "outputs": [
    {
     "name": "stdout",
     "output_type": "stream",
     "text": [
      "5996995\n",
      "5996992\n"
     ]
    }
   ],
   "source": [
    "print(len(review))\n",
    "print(len(review_r))"
   ]
  },
  {
   "cell_type": "markdown",
   "metadata": {},
   "source": [
    "### 2.1.3 train test split"
   ]
  },
  {
   "cell_type": "code",
   "execution_count": 55,
   "metadata": {},
   "outputs": [],
   "source": [
    "# train-test split by randomly split on user-restaurant rating combination, and load into Surprise individually\n",
    "idx = list(review_r.index)\n",
    "np.random.shuffle(idx) # shuffle the list of index\n",
    "\n",
    "# 90% trainset, 10% testset\n",
    "threshold = int(0.9 * len(review_r))                                    \n",
    "trainset = review_r.loc[idx[:threshold],['user_id','business_id','stars']]                             \n",
    "testset = review_r.loc[idx[threshold:],['user_id','business_id','stars']]"
   ]
  },
  {
   "cell_type": "code",
   "execution_count": 56,
   "metadata": {},
   "outputs": [
    {
     "name": "stdout",
     "output_type": "stream",
     "text": [
      "# of users in total: 1518168\n",
      "# of users in the training set:  1435047\n",
      "# of restaurants in total: 188593\n",
      "# of restaurants in the training set:  188544\n"
     ]
    }
   ],
   "source": [
    "print(\"# of users in total:\" , review_r.user_id.nunique())\n",
    "print(\"# of users in the training set: \", trainset.user_id.nunique())\n",
    "print(\"# of restaurants in total:\" , review_r.business_id.nunique())\n",
    "print(\"# of restaurants in the training set: \", trainset.business_id.nunique())"
   ]
  },
  {
   "cell_type": "markdown",
   "metadata": {},
   "source": [
    "Note: the training data doesn't include all users and all restaurants either. But this can be handled by Surprise package and it returns the global mean of the training data if the user_id or the business_id to be predicted is not found in the training data."
   ]
  },
  {
   "cell_type": "markdown",
   "metadata": {},
   "source": [
    "## 2.2 matrix factorization using scikit-surprise package\n",
    "\n",
    "Here, instead of starting from scratch, scikit-surprise package is used to handle some of the implementation details. \n",
    "Surprise is a Python scikit building and analyzing recommender systems. http://surpriselib.com/"
   ]
  },
  {
   "cell_type": "code",
   "execution_count": 14,
   "metadata": {},
   "outputs": [
    {
     "name": "stderr",
     "output_type": "stream",
     "text": [
      "/anaconda3/lib/python3.6/importlib/_bootstrap.py:219: RuntimeWarning: numpy.dtype size changed, may indicate binary incompatibility. Expected 96, got 88\n",
      "  return f(*args, **kwds)\n"
     ]
    }
   ],
   "source": [
    "from surprise import Dataset, Reader\n",
    "from surprise import NMF, SVD\n",
    "from surprise.model_selection import cross_validate, GridSearchCV, KFold\n",
    "from surprise import accuracy"
   ]
  },
  {
   "cell_type": "code",
   "execution_count": 15,
   "metadata": {},
   "outputs": [],
   "source": [
    "# load trainset and testset into Surprise\n",
    "\n",
    "# create a Reader object with the rating_scale from 1 to 5\n",
    "reader = Reader(rating_scale=(1, 5))\n",
    "\n",
    "# load trainset, note: the columns must correspond to user id, item id and ratings in the exact order\n",
    "data_train = Dataset.load_from_df(trainset, reader)\n",
    "training = data_train.build_full_trainset() # prepare a trainset object out of the training data to feed to .fit() method\n",
    "\n",
    "# load testset\n",
    "data_test = Dataset.load_from_df(testset, reader)\n",
    "testing = data_test.construct_testset(data_test.raw_ratings) # prepare a testset object out of the test data to feed to .test() method"
   ]
  },
  {
   "cell_type": "markdown",
   "metadata": {},
   "source": [
    "### 2.2.1 SVD algorithm without bias\n",
    "\n",
    "The matrix factorization without bias (Probabilistic Matrix Factorization) is achieved by using the SVD algorithm and setting the biased parameter to False. \n",
    "That is the rating is predicted as: \n",
    "$$r̂_ui=q^T_ip_u$$\n",
    "where $p_u$ is the user latent factor matrix, $q_i$ is the item latent factor matrix.\n",
    "https://surprise.readthedocs.io/en/stable/matrix_factorization.html#surprise.prediction_algorithms.matrix_factorization.SVD"
   ]
  },
  {
   "cell_type": "code",
   "execution_count": 16,
   "metadata": {},
   "outputs": [
    {
     "name": "stdout",
     "output_type": "stream",
     "text": [
      "Processing epoch 0\n",
      "Processing epoch 1\n",
      "Processing epoch 2\n",
      "Processing epoch 3\n",
      "Processing epoch 4\n",
      "Processing epoch 5\n",
      "Processing epoch 6\n",
      "Processing epoch 7\n",
      "Processing epoch 8\n",
      "Processing epoch 9\n",
      "Processing epoch 10\n",
      "Processing epoch 11\n",
      "Processing epoch 12\n",
      "Processing epoch 13\n",
      "Processing epoch 14\n",
      "Processing epoch 15\n",
      "Processing epoch 16\n",
      "Processing epoch 17\n",
      "Processing epoch 18\n",
      "Processing epoch 19\n",
      "Processing epoch 20\n",
      "Processing epoch 21\n",
      "Processing epoch 22\n",
      "Processing epoch 23\n",
      "Processing epoch 24\n",
      "Processing epoch 25\n",
      "Processing epoch 26\n",
      "Processing epoch 27\n",
      "Processing epoch 28\n",
      "Processing epoch 29\n",
      "RMSE: 1.6135\n",
      "CPU times: user 4min 21s, sys: 3.91 s, total: 4min 25s\n",
      "Wall time: 4min 31s\n"
     ]
    }
   ],
   "source": [
    "%%time\n",
    "# SVD with defaults\n",
    "\n",
    "svd = SVD(n_factors=20, n_epochs = 30, biased=False, verbose=True) # initiate a SVD algorithm object\n",
    "\n",
    "svd.fit(training) # training on the trainset\n",
    "pred_svd = svd.test(testing) # predict ratings for the testset\n",
    "accuracy.rmse(pred_svd) # compute RMSE score"
   ]
  },
  {
   "cell_type": "code",
   "execution_count": 17,
   "metadata": {},
   "outputs": [
    {
     "name": "stdout",
     "output_type": "stream",
     "text": [
      "(1435339, 20)\n",
      "(188543, 20)\n"
     ]
    }
   ],
   "source": [
    "# user and item matrix with latent features\n",
    "user_latent = svd.pu\n",
    "item_latent = svd.qi\n",
    "print(user_latent.shape)\n",
    "print(item_latent.shape)"
   ]
  },
  {
   "cell_type": "code",
   "execution_count": 23,
   "metadata": {},
   "outputs": [
    {
     "name": "stdout",
     "output_type": "stream",
     "text": [
      "(188543,)\n",
      "mean predicted rating: 0.8679802167989213\n",
      "[(14772, 7.8386661444468775), (11270, 7.499784853238998), (10622, 7.141662937889348), (33252, 7.023713756892179), (33270, 6.936848190934862), (17994, 6.828225552807853), (43143, 6.810920034467644), (17072, 6.742314372288877), (31287, 6.66459029951559), (8553, 6.567162470393413)]\n",
      "[(1005, -4.20402591745137), (35215, -4.250162187465908), (37625, -4.263576513020702), (68484, -4.347674644958943), (12828, -4.372068890938771), (50243, -4.5150399652285955), (38397, -4.738308043277228), (43449, -4.822115864841333), (27178, -5.340955631000047), (19838, -5.518231962483538)]\n"
     ]
    },
    {
     "data": {
      "image/png": "[encoded data removed]",
      "text/plain": [
       "<Figure size 432x288 with 1 Axes>"
      ]
     },
     "metadata": {},
     "output_type": "display_data"
    }
   ],
   "source": [
    "# spot check on known user\n",
    "u_id = training.to_inner_uid('CxDOIDnH8gp9KXzpBHJYXw')\n",
    "prediction = np.dot(user_latent[u_id,:],item_latent.T)\n",
    "print(prediction.shape)\n",
    "print(\"mean predicted rating:\", sum(prediction)/len(prediction))\n",
    "\n",
    "# # adjust for rating offset\n",
    "# prediction -= svd_bias.trainset.offset # Here: offset = 0 \n",
    "\n",
    "# plot distribution of predicted ratings for the user\n",
    "plt.hist(prediction);\n",
    "\n",
    "# sort and look at the top 10 highest and lowest ratings\n",
    "prediction_s = list(zip(np.arange(len(prediction)),prediction))\n",
    "prediction_s = sorted(prediction_s, key=lambda x: x[1], reverse=True)\n",
    "print(prediction_s[:10]) # 10 highest predicted ratings\n",
    "print(prediction_s[-10:]) # 10 lowest predicted ratings"
   ]
  },
  {
   "cell_type": "code",
   "execution_count": 27,
   "metadata": {},
   "outputs": [
    {
     "name": "stdout",
     "output_type": "stream",
     "text": [
      "3.7361912233023524\n"
     ]
    }
   ],
   "source": [
    "# spot check on unknown user\n",
    "prediction = [svd.trainset.global_mean] * item_latent.shape[0]\n",
    "print(svd.trainset.global_mean)"
   ]
  },
  {
   "cell_type": "markdown",
   "metadata": {},
   "source": [
    "The global mean rating computed from the trainset will be returned as the prediction for all restaurants for unknown users."
   ]
  },
  {
   "cell_type": "code",
   "execution_count": 20,
   "metadata": {},
   "outputs": [
    {
     "data": {
      "text/plain": [
       "3.2187750735490774"
      ]
     },
     "execution_count": 20,
     "metadata": {},
     "output_type": "execute_result"
    },
    {
     "data": {
      "image/png": "[encoded data removed]",
      "text/plain": [
       "<Figure size 432x288 with 1 Axes>"
      ]
     },
     "metadata": {},
     "output_type": "display_data"
    }
   ],
   "source": [
    "# compare to actual ratings of the user\n",
    "plt.hist(review_r[review_r.user_id == 'CxDOIDnH8gp9KXzpBHJYXw'].stars);\n",
    "review_r[review_r.user_id == 'CxDOIDnH8gp9KXzpBHJYXw'].stars.mean()"
   ]
  },
  {
   "cell_type": "markdown",
   "metadata": {},
   "source": [
    "As shown, the predicted ratings from the SVD without bias centered around rating of 0-1, with a mean of 0.87 and a range of -5.5 to 7.8. This is not a good match of the actual ratings centerd around 3-4 with a mean of 3.2 and a range of 1-5. "
   ]
  },
  {
   "cell_type": "markdown",
   "metadata": {},
   "source": [
    "### 2.2.2 SVD algorithm with bias\n",
    "Similar to 2.2.1, scikit-surprise package is used to handle some of the implementation details.\n",
    "\n",
    "The matrix factorization with bias is achieved by using the SVD algorithm and setting the biased parameter to True. \n",
    "That is the rating is predicted as: \n",
    "$$r̂_ui=μ+bu+bi+q^T_ip_u$$\n",
    "where $p_u$ is the user latent factor matrix, $q_i$ is the item latent factor matrix, bu is the bias terms for users, bi is the bias terms for items. \n",
    "https://surprise.readthedocs.io/en/stable/matrix_factorization.html#surprise.prediction_algorithms.matrix_factorization.SVD"
   ]
  },
  {
   "cell_type": "code",
   "execution_count": 22,
   "metadata": {},
   "outputs": [
    {
     "name": "stdout",
     "output_type": "stream",
     "text": [
      "Processing epoch 0\n",
      "Processing epoch 1\n",
      "Processing epoch 2\n",
      "Processing epoch 3\n",
      "Processing epoch 4\n",
      "Processing epoch 5\n",
      "Processing epoch 6\n",
      "Processing epoch 7\n",
      "Processing epoch 8\n",
      "Processing epoch 9\n",
      "Processing epoch 10\n",
      "Processing epoch 11\n",
      "Processing epoch 12\n",
      "Processing epoch 13\n",
      "Processing epoch 14\n",
      "Processing epoch 15\n",
      "Processing epoch 16\n",
      "Processing epoch 17\n",
      "Processing epoch 18\n",
      "Processing epoch 19\n",
      "Processing epoch 20\n",
      "Processing epoch 21\n",
      "Processing epoch 22\n",
      "Processing epoch 23\n",
      "Processing epoch 24\n",
      "Processing epoch 25\n",
      "Processing epoch 26\n",
      "Processing epoch 27\n",
      "Processing epoch 28\n",
      "Processing epoch 29\n",
      "RMSE: 1.2743\n",
      "CPU times: user 4min 13s, sys: 3.61 s, total: 4min 17s\n",
      "Wall time: 4min 21s\n"
     ]
    }
   ],
   "source": [
    "%%time\n",
    "# SVD with defaults\n",
    "\n",
    "svd_bias = SVD(n_factors=20, n_epochs = 30, biased=True, verbose=True) # initiate a SVD algorithm object with the bias terms\n",
    "\n",
    "svd_bias.fit(training) # training on the trainset\n",
    "pred_svd_bias = svd_bias.test(testing) # predict ratings for the testset\n",
    "accuracy.rmse(pred_svd_bias) # compute RMSE score"
   ]
  },
  {
   "cell_type": "code",
   "execution_count": 28,
   "metadata": {},
   "outputs": [
    {
     "name": "stdout",
     "output_type": "stream",
     "text": [
      "(1435339, 20)\n",
      "(188543, 20)\n",
      "(1435339,)\n",
      "(188543,)\n"
     ]
    }
   ],
   "source": [
    "# extract global mean rating from trainset\n",
    "mean = svd_bias.trainset.global_mean\n",
    "\n",
    "# user and item matrix with latent features\n",
    "user_latent = svd_bias.pu\n",
    "item_latent = svd_bias.qi\n",
    "print(user_latent.shape)\n",
    "print(item_latent.shape)\n",
    "\n",
    "# user and item bias vector\n",
    "user_bias = svd_bias.bu\n",
    "item_bias = svd_bias.bi\n",
    "print(user_bias.shape)\n",
    "print(item_bias.shape)"
   ]
  },
  {
   "cell_type": "code",
   "execution_count": 29,
   "metadata": {},
   "outputs": [
    {
     "name": "stdout",
     "output_type": "stream",
     "text": [
      "[3.51639793 2.95304187 3.88066392 3.48111165 3.74012314 4.1815483\n",
      " 2.5351963  2.40812977 4.33645222 4.15999479]\n",
      "(188543,)\n",
      "mean predicted rating:  3.2349401276402827\n",
      "[(16960, 4.776904955441582), (9208, 4.753047030626503), (799, 4.709718737241246), (57018, 4.668016722428178), (87427, 4.667323267232501), (20730, 4.664409207947162), (13199, 4.658240098113386), (83436, 4.653560234582426), (22575, 4.647589422772136), (1644, 4.646388580030081)]\n",
      "[(26411, 0.7252939650199545), (16114, 0.7227827760769804), (31986, 0.7175943253093953), (33893, 0.7102716003236218), (21622, 0.6649547635183295), (39313, 0.6552640395348124), (17238, 0.6284526510250125), (5329, 0.6190846927976407), (6428, 0.5693175236198391), (38528, 0.518261876280907)]\n"
     ]
    },
    {
     "data": {
      "image/png": "[encoded data removed]",
      "text/plain": [
       "<Figure size 432x288 with 1 Axes>"
      ]
     },
     "metadata": {},
     "output_type": "display_data"
    }
   ],
   "source": [
    "# spot check-known user\n",
    "\n",
    "u_id = training.to_inner_uid('CxDOIDnH8gp9KXzpBHJYXw')\n",
    "prediction = mean + user_bias[u_id] + item_bias + np.dot(user_latent[u_id,:],item_latent.T)\n",
    "print(prediction[:10])\n",
    "print(prediction.shape)\n",
    "print(\"mean predicted rating: \", sum(prediction)/len(prediction))\n",
    "\n",
    "# # adjust for rating offset\n",
    "# prediction -= svd_bias.trainset.offset # Here: offset = 0\n",
    "\n",
    "# plot distribution of predicted ratings for the user\n",
    "plt.hist(prediction);\n",
    "\n",
    "# sort and look at the top 10 highest and lowest ratings\n",
    "prediction_s = list(zip(np.arange(len(prediction)),prediction))\n",
    "prediction_s = sorted(prediction_s, key=lambda x: x[1], reverse=True)\n",
    "print(prediction_s[:10]) # 10 highest predicted ratings\n",
    "print(prediction_s[-10:]) # 10 lowest predicted ratings"
   ]
  },
  {
   "cell_type": "code",
   "execution_count": 31,
   "metadata": {},
   "outputs": [
    {
     "name": "stdout",
     "output_type": "stream",
     "text": [
      "[4.01775148 3.49406036 4.5795215  3.82375677 4.24074412 4.48460394\n",
      " 2.86036996 3.39117686 4.06482679 4.54554207]\n",
      "(188543,)\n",
      "mean predicted rating: 3.6804884705358365\n",
      "[(87569, 5.035666210963752), (87427, 5.025696153995782), (17573, 5.014711069967262), (34351, 5.0135506563034635), (100638, 5.013506402209361), (44388, 5.013226154600245), (11415, 5.011160670775523), (59599, 5.009751690303481), (7130, 5.009032580842581), (69363, 5.008989424852158)]\n",
      "[(36884, 1.2103612579271634), (15166, 1.2085272840308687), (33893, 1.2082994453689806), (61801, 1.2070187301795658), (47134, 1.198404296326415), (33268, 1.1926833439572828), (17238, 1.175608672085608), (31389, 1.1498671333882853), (21622, 1.1426537715768759), (38528, 1.121461461090782)]\n"
     ]
    },
    {
     "data": {
      "image/png": "[encoded data removed]",
      "text/plain": [
       "<Figure size 432x288 with 1 Axes>"
      ]
     },
     "metadata": {},
     "output_type": "display_data"
    }
   ],
   "source": [
    "# spot check-unknown user\n",
    "\n",
    "prediction = mean + item_bias\n",
    "print(prediction[:10])\n",
    "print(prediction.shape)\n",
    "print(\"mean predicted rating:\", sum(prediction)/len(prediction))\n",
    "\n",
    "# # adjust for rating offset\n",
    "# prediction -= svd_bias.trainset.offset # Here: offset = 0 \n",
    "\n",
    "# plot distribution of predicted ratings for the user\n",
    "plt.hist(prediction);\n",
    "\n",
    "# sort and look at the top 10 highest and lowest ratings\n",
    "prediction_s = list(zip(np.arange(len(prediction)),prediction))\n",
    "prediction_s = sorted(prediction_s, key=lambda x: x[1], reverse=True)\n",
    "print(prediction_s[:10]) # 10 highest predicted ratings\n",
    "print(prediction_s[-10:]) # 10 lowest predicted ratings"
   ]
  },
  {
   "cell_type": "code",
   "execution_count": 32,
   "metadata": {},
   "outputs": [
    {
     "data": {
      "text/plain": [
       "3.2187750735490774"
      ]
     },
     "execution_count": 32,
     "metadata": {},
     "output_type": "execute_result"
    },
    {
     "data": {
      "image/png": "[encoded data removed]",
      "text/plain": [
       "<Figure size 432x288 with 1 Axes>"
      ]
     },
     "metadata": {},
     "output_type": "display_data"
    }
   ],
   "source": [
    "# compare to actual ratings of the user\n",
    "plt.hist(review_r[review_r.user_id == 'CxDOIDnH8gp9KXzpBHJYXw'].stars);\n",
    "review_r[review_r.user_id == 'CxDOIDnH8gp9KXzpBHJYXw'].stars.mean()"
   ]
  },
  {
   "cell_type": "markdown",
   "metadata": {},
   "source": [
    "As shown, the predicted ratings from the SVD with bias terms show a much better improvement. Predicted ratings center around rating of 3-4, with a mean of 3.23 and a range of 0.52 to 4.78, a good match of the actual ratings centerd around 3-4 with a mean of 3.2 and a range of 1-5.\n",
    "On the other hand, the predicted ratings for unseen users is centered around 3-4.5 with a mean of 3.68 and a range of 1.12-5.04, a good match to the global mean of 3.74 as well. "
   ]
  },
  {
   "cell_type": "code",
   "execution_count": 33,
   "metadata": {},
   "outputs": [],
   "source": [
    "# %%time\n",
    "\n",
    "# # parameter optimization with scikit-surprise SVD algorithm with bias\n",
    "\n",
    "# # cross validation to optimize parameters of SVD with bias\n",
    "# param_grid = {'n_factors': [10,20,30,50], 'n_epochs': [50], 'lr_all': [0.005],'reg_all': [0.01, 0.02, 0.05], 'biased': [True]}\n",
    "# svd_gs = GridSearchCV(SVD, param_grid, measures=['rmse'], cv=KFold(3, random_state=42),joblib_verbose=2)\n",
    "# svd_gs.fit(data_train) # gridsesarch optimization on the trainset\n",
    "\n",
    "# # best RMSE score\n",
    "# print(svd_gs.best_score)\n",
    "# # combination of parameters that gave the best RMSE score\n",
    "# print(svd_gs.best_params)\n",
    "\n",
    "# svd_gs_best = svd_gs.best_estimator['rmse']  # algorithm with the optimized parameters\n",
    "# svd_gs_best.fit(training)\n",
    "# pred_svd_gs_best = svd_gs_best.test(testing) \n",
    "# accuracy.rmse(pred_svd_gs_best)"
   ]
  },
  {
   "cell_type": "markdown",
   "metadata": {},
   "source": [
    "### 2.2.3 NMF algorithm (without bias)\n",
    "\n",
    "Similar to 2.2.1, scikit-surprise package is used to handle some of the implementation details.\n",
    "\n",
    "The non-negative matrix factorization (NMF) is achieved by using the NMF algorithm. The default without user and item bias terms is used here. \n",
    "https://surprise.readthedocs.io/en/stable/matrix_factorization.html#surprise.prediction_algorithms.matrix_factorization.NMF"
   ]
  },
  {
   "cell_type": "code",
   "execution_count": 34,
   "metadata": {},
   "outputs": [
    {
     "name": "stdout",
     "output_type": "stream",
     "text": [
      "Processing epoch 0\n",
      "Processing epoch 1\n",
      "Processing epoch 2\n",
      "Processing epoch 3\n",
      "Processing epoch 4\n",
      "Processing epoch 5\n",
      "Processing epoch 6\n",
      "Processing epoch 7\n",
      "Processing epoch 8\n",
      "Processing epoch 9\n",
      "Processing epoch 10\n",
      "Processing epoch 11\n",
      "Processing epoch 12\n",
      "Processing epoch 13\n",
      "Processing epoch 14\n",
      "Processing epoch 15\n",
      "Processing epoch 16\n",
      "Processing epoch 17\n",
      "Processing epoch 18\n",
      "Processing epoch 19\n",
      "Processing epoch 20\n",
      "Processing epoch 21\n",
      "Processing epoch 22\n",
      "Processing epoch 23\n",
      "Processing epoch 24\n",
      "Processing epoch 25\n",
      "Processing epoch 26\n",
      "Processing epoch 27\n",
      "Processing epoch 28\n",
      "Processing epoch 29\n",
      "RMSE: 1.4253\n",
      "CPU times: user 6min 15s, sys: 12.4 s, total: 6min 28s\n",
      "Wall time: 6min 33s\n"
     ]
    }
   ],
   "source": [
    "%%time\n",
    "# NMF without bias\n",
    "\n",
    "nmf = NMF(n_factors=20, n_epochs = 30, biased=False, verbose=True) # initiate a NMF algorithm object\n",
    "\n",
    "nmf.fit(training) # training on the trainset\n",
    "pred_nmf = nmf.test(testing) # predict ratings for the testset\n",
    "accuracy.rmse(pred_nmf) # compute RMSE score"
   ]
  },
  {
   "cell_type": "code",
   "execution_count": 35,
   "metadata": {},
   "outputs": [
    {
     "name": "stdout",
     "output_type": "stream",
     "text": [
      "(1435339, 20)\n",
      "(188543, 20)\n"
     ]
    }
   ],
   "source": [
    "# user and item matrix with latent features\n",
    "user_latent = nmf.pu\n",
    "item_latent = nmf.qi\n",
    "print(user_latent.shape)\n",
    "print(item_latent.shape)"
   ]
  },
  {
   "cell_type": "code",
   "execution_count": 37,
   "metadata": {},
   "outputs": [
    {
     "name": "stdout",
     "output_type": "stream",
     "text": [
      "(188543,)\n",
      "mean predicted rating:  3.408266266857016\n",
      "[(61037, 6.420736467636237), (185447, 6.287767090763864), (148743, 6.2601015726749525), (91398, 6.244302931721499), (177074, 6.204474784831942), (86922, 6.203609073532165), (164524, 6.1261237760251674), (188370, 6.105899765784667), (162852, 5.980052106772009), (58773, 5.977768593382456)]\n",
      "[(130998, 0.5667920883701845), (187131, 0.5577636855854239), (79532, 0.5380795875505566), (171946, 0.532834736285226), (118789, 0.5252774000378253), (182520, 0.5216862631036636), (148589, 0.5187627748614838), (109670, 0.48534016964374277), (183330, 0.47606334213165613), (185052, 0.4393604135423561)]\n"
     ]
    },
    {
     "data": {
      "image/png": "[encoded data removed]",
      "text/plain": [
       "<Figure size 432x288 with 1 Axes>"
      ]
     },
     "metadata": {},
     "output_type": "display_data"
    }
   ],
   "source": [
    "# spot check on known user\n",
    "u_id = training.to_inner_uid('CxDOIDnH8gp9KXzpBHJYXw')\n",
    "prediction = np.dot(user_latent[u_id,:],item_latent.T)\n",
    "print(prediction.shape)\n",
    "print(\"mean predicted rating: \", sum(prediction)/len(prediction))\n",
    "\n",
    "# # adjust for rating offset\n",
    "# prediction -= nmf.trainset.offset # Here: offset = 0 \n",
    "\n",
    "# plot distribution of the predicted ratings\n",
    "plt.hist(prediction);\n",
    "\n",
    "# sort and look at the top 10 highest and lowest ratings\n",
    "prediction_s = list(zip(np.arange(len(prediction)),prediction))\n",
    "prediction_s = sorted(prediction_s, key=lambda x: x[1], reverse=True)\n",
    "print(prediction_s[:10]) # 10 highest predicted ratings\n",
    "print(prediction_s[-10:]) # 10 lowest predicted ratings"
   ]
  },
  {
   "cell_type": "code",
   "execution_count": 38,
   "metadata": {},
   "outputs": [
    {
     "data": {
      "text/plain": [
       "3.2187750735490774"
      ]
     },
     "execution_count": 38,
     "metadata": {},
     "output_type": "execute_result"
    },
    {
     "data": {
      "image/png": "[encoded data removed]",
      "text/plain": [
       "<Figure size 432x288 with 1 Axes>"
      ]
     },
     "metadata": {},
     "output_type": "display_data"
    }
   ],
   "source": [
    "# compare to actual ratings of the user\n",
    "plt.hist(review_r[review_r.user_id == 'CxDOIDnH8gp9KXzpBHJYXw'].stars);\n",
    "review_r[review_r.user_id == 'CxDOIDnH8gp9KXzpBHJYXw'].stars.mean()"
   ]
  },
  {
   "cell_type": "markdown",
   "metadata": {},
   "source": [
    "As shown, the predicted ratings from NMF without bias show reasonable results. Predicted ratings center around rating of 3-4.5, with a mean of 3.41 and a range of 0.44 to 6.42, a close match of the actual ratings centerd around 3-4 with a mean of 3.2 and a range of 1-5.\n",
    "On the other hand, the predicted ratings for unseen users will just be the global mean, 3.74 computed from the trainset."
   ]
  },
  {
   "cell_type": "code",
   "execution_count": 39,
   "metadata": {},
   "outputs": [],
   "source": [
    "# %%time\n",
    "\n",
    "# # parameter optimization with scikit-surprise NMF algorithm with no bias\n",
    "\n",
    "# # cross validation to optimize parameters of NMF with no bias\n",
    "# param_grid = {'n_factors': [10,20,30,50], 'n_epochs': [50],'biased': [False]}\n",
    "# nmf_gs = GridSearchCV(NMF, param_grid, measures=['rmse'], cv=KFold(3, random_state=42), joblib_verbose=2)\n",
    "# nmf_gs.fit(data_train) # gridsesarch optimization on the trainset, need to feed in a Dataset object not a trainset object\n",
    "\n",
    "# # best RMSE score\n",
    "# print(nmf_gs.best_score)\n",
    "# # combination of parameters that gave the best RMSE score\n",
    "# print(nmf_gs.best_params)\n",
    "\n",
    "# nmf_gs_best = nmf_gs.best_estimator['rmse']  # algorithm with the optimized parameters\n",
    "# nmf_gs_best.fit(training)\n",
    "# pred_nmf_gs_best = nmf_gs_best.test(testing)\n",
    "# accuracy.rmse(pred_nmf_gs_best)"
   ]
  },
  {
   "cell_type": "markdown",
   "metadata": {},
   "source": [
    "### 2.2.4 NMF with bias terms\n",
    "\n",
    "The bias terms can also be added to the non-negative matrix factorization (NMF) algorithm by setting 'biased=True' argument. https://surprise.readthedocs.io/en/stable/matrix_factorization.html#surprise.prediction_algorithms.matrix_factorization.NMF"
   ]
  },
  {
   "cell_type": "code",
   "execution_count": 40,
   "metadata": {},
   "outputs": [
    {
     "name": "stdout",
     "output_type": "stream",
     "text": [
      "Processing epoch 0\n",
      "Processing epoch 1\n",
      "Processing epoch 2\n",
      "Processing epoch 3\n",
      "Processing epoch 4\n",
      "Processing epoch 5\n",
      "Processing epoch 6\n",
      "Processing epoch 7\n",
      "Processing epoch 8\n",
      "Processing epoch 9\n",
      "Processing epoch 10\n",
      "Processing epoch 11\n",
      "Processing epoch 12\n",
      "Processing epoch 13\n",
      "Processing epoch 14\n",
      "Processing epoch 15\n",
      "Processing epoch 16\n",
      "Processing epoch 17\n",
      "Processing epoch 18\n",
      "Processing epoch 19\n",
      "Processing epoch 20\n",
      "Processing epoch 21\n",
      "Processing epoch 22\n",
      "Processing epoch 23\n",
      "Processing epoch 24\n",
      "Processing epoch 25\n",
      "Processing epoch 26\n",
      "Processing epoch 27\n",
      "Processing epoch 28\n",
      "Processing epoch 29\n",
      "RMSE: 1.9482\n",
      "CPU times: user 6min 15s, sys: 11.5 s, total: 6min 27s\n",
      "Wall time: 6min 32s\n"
     ]
    }
   ],
   "source": [
    "%%time\n",
    "# NMF with bias\n",
    "\n",
    "nmf_bias = NMF(n_factors=20, n_epochs = 30, biased=True, verbose=True) # initiate a NMF algorithm object\n",
    "\n",
    "nmf_bias.fit(training) # training on the trainset\n",
    "pred_nmf_bias = nmf_bias.test(testing) # predict ratings for the testset\n",
    "accuracy.rmse(pred_nmf_bias) # compute RMSE score"
   ]
  },
  {
   "cell_type": "code",
   "execution_count": 41,
   "metadata": {},
   "outputs": [
    {
     "name": "stdout",
     "output_type": "stream",
     "text": [
      "(1435339, 20)\n",
      "(188543, 20)\n",
      "(1435339,)\n",
      "(188543,)\n"
     ]
    }
   ],
   "source": [
    "# extract global mean rating from trainset\n",
    "mean = nmf_bias.trainset.global_mean\n",
    "\n",
    "# user and item matrix with latent features\n",
    "user_latent = nmf_bias.pu\n",
    "item_latent = nmf_bias.qi\n",
    "print(user_latent.shape)\n",
    "print(item_latent.shape)\n",
    "\n",
    "# user and item bias vector\n",
    "user_bias = nmf_bias.bu\n",
    "item_bias = nmf_bias.bi\n",
    "print(user_bias.shape)\n",
    "print(item_bias.shape)"
   ]
  },
  {
   "cell_type": "code",
   "execution_count": 42,
   "metadata": {},
   "outputs": [
    {
     "name": "stdout",
     "output_type": "stream",
     "text": [
      "[ 5.89603223  1.71586305  6.23627654  5.9394476  -5.9397852   6.06003575\n",
      "  4.28527058  5.43576858  5.18346678  7.57055841]\n",
      "(188543,)\n",
      "mean predicted rating:  -0.5433499266548315\n",
      "[(65015, 67527.0239170744), (137376, 64321.670564326036), (167175, 25227.546659139884), (127750, 18630.17202250898), (40850, 17710.198246873857), (21294, 17351.449101283684), (141401, 17096.82855359588), (57237, 16800.042225874844), (167192, 15641.087970833023), (47728, 15156.937483162656)]\n",
      "[(170984, -13508.761842518981), (56217, -15160.541752681833), (130930, -16132.128153896101), (166761, -18353.78183879424), (50808, -28658.302545993367), (131745, -49421.46480774146), (58147, -50415.50224128151), (44169, -65246.72408060015), (116287, -131742.95829348254), (92668, -962490.7018024112)]\n"
     ]
    },
    {
     "data": {
      "image/png": "[encoded data removed]",
      "text/plain": [
       "<Figure size 432x288 with 1 Axes>"
      ]
     },
     "metadata": {},
     "output_type": "display_data"
    }
   ],
   "source": [
    "# spot check-known user\n",
    "\n",
    "u_id = training.to_inner_uid('CxDOIDnH8gp9KXzpBHJYXw')\n",
    "prediction = mean + user_bias[u_id] + item_bias + np.dot(user_latent[u_id,:],item_latent.T)\n",
    "print(prediction[:10])\n",
    "print(prediction.shape)\n",
    "print(\"mean predicted rating: \", sum(prediction)/len(prediction))\n",
    "\n",
    "# # adjust for rating offset\n",
    "# prediction -= svd_bias.trainset.offset # Here: offset = 0 \n",
    "\n",
    "# plot distribution of the predicted ratings\n",
    "plt.hist(prediction);\n",
    "\n",
    "# sort and look at the top 10 highest and lowest ratings\n",
    "prediction_s = list(zip(np.arange(len(prediction)),prediction))\n",
    "prediction_s = sorted(prediction_s, key=lambda x: x[1], reverse=True)\n",
    "print(prediction_s[:10]) # 10 highest predicted ratings\n",
    "print(prediction_s[-10:]) # 10 lowest predicted ratings"
   ]
  },
  {
   "cell_type": "code",
   "execution_count": 44,
   "metadata": {},
   "outputs": [
    {
     "name": "stdout",
     "output_type": "stream",
     "text": [
      "[ 4.25033682  0.07035844  4.59054878  4.29378253 -7.58550062  4.41430809\n",
      "  2.63954632  3.78981324  3.53773654  5.92488064]\n",
      "(188543,)\n",
      "67525.37819076964 -2.1881481553474895\n",
      "[(65015, 67525.37819076964), (137376, 64320.02483802127), (167175, 25225.900932835117), (127750, 18628.526296204214), (40850, 17708.55252056909), (21294, 17349.803374978917), (141401, 17095.18282729111), (57237, 16798.396499570077), (167192, 15639.442244528256), (47728, 15155.291756857889)]\n",
      "[(170984, -13510.407568823748), (56217, -15162.1874789866), (130930, -16133.773880200868), (166761, -18355.427565099006), (50808, -28659.948272298134), (131745, -49423.11053404622), (58147, -50417.14796758635), (44169, -65248.36980690491), (116287, -131744.60401978734), (92668, -962492.3475287161)]\n"
     ]
    },
    {
     "data": {
      "image/png": "[encoded data removed]",
      "text/plain": [
       "<Figure size 432x288 with 1 Axes>"
      ]
     },
     "metadata": {},
     "output_type": "display_data"
    }
   ],
   "source": [
    "# spot check-unknown user\n",
    "\n",
    "prediction = mean + item_bias\n",
    "print(prediction[:10])\n",
    "print(prediction.shape)\n",
    "print(max(prediction), sum(prediction)/len(prediction))\n",
    "\n",
    "# # adjust for rating offset\n",
    "# prediction -= svd_bias.trainset.offset # Here: offset = 0\n",
    "\n",
    "# plot distribution of the predicted ratings\n",
    "plt.hist(prediction);\n",
    "\n",
    "# sort and look at the top 10 highest and lowest ratings\n",
    "prediction_s = list(zip(np.arange(len(prediction)),prediction))\n",
    "prediction_s = sorted(prediction_s, key=lambda x: x[1], reverse=True)\n",
    "print(prediction_s[:10]) # 10 highest predicted ratings\n",
    "print(prediction_s[-10:]) # 10 lowest predicted ratings"
   ]
  },
  {
   "cell_type": "code",
   "execution_count": 45,
   "metadata": {},
   "outputs": [
    {
     "data": {
      "text/plain": [
       "3.2187750735490774"
      ]
     },
     "execution_count": 45,
     "metadata": {},
     "output_type": "execute_result"
    },
    {
     "data": {
      "image/png": "[encoded data removed]",
      "text/plain": [
       "<Figure size 432x288 with 1 Axes>"
      ]
     },
     "metadata": {},
     "output_type": "display_data"
    }
   ],
   "source": [
    "# compare to actual ratings of the user\n",
    "plt.hist(review_r[review_r.user_id == 'CxDOIDnH8gp9KXzpBHJYXw'].stars);\n",
    "review_r[review_r.user_id == 'CxDOIDnH8gp9KXzpBHJYXw'].stars.mean()"
   ]
  },
  {
   "cell_type": "markdown",
   "metadata": {},
   "source": [
    "As shown, non-negative matrix factorization with bias terms give much worse results. \n",
    "The predicted ratings from NMF with bias terms span a much wider range from -962490 to 67527, with a mean of -0.54 , way off from the actual ratings centerd around 3-4 with a mean of 3.2 and a range of 1-5. \n",
    "On the other hand, the predicted ratings for unseen users also distribute in a wide range of -962492 to 67525, with a mean of -2.19, not a match of the global mean of 3.74 either.<br>\n",
    "Here, the benefit of non-negative matrix factorization is thrown off by having the bias items, especially the large item bias terms. As a result, the predicted ratings are no longer non-negative. Having a large regularization terms on user and item bias parameters will help, but this will just push it back to the NMF algorithm without bias. Therefore, NMF with bias will not be used."
   ]
  },
  {
   "cell_type": "markdown",
   "metadata": {},
   "source": [
    "### 2.2.5 non-negative matrix factorization using scikit-learn.decomposition.NMF\n",
    "\n",
    "In order for this to work, the user x business rating matrix needs to be extracted from the review dataframe first.\n",
    "As shown below, using pandas pivot method to pviot the 'review' dataframe by 'user_id' and 'business_id' doesn't work due to the large memory required to process and store the resulting user x business matrix. Instead, the 'review' dataframe is pivoted directly into a sparse matrix and the available ratings are stored as values in the sparse matrix."
   ]
  },
  {
   "cell_type": "code",
   "execution_count": 46,
   "metadata": {},
   "outputs": [
    {
     "name": "stderr",
     "output_type": "stream",
     "text": [
      "/anaconda3/lib/python3.6/importlib/_bootstrap.py:219: RuntimeWarning: numpy.dtype size changed, may indicate binary incompatibility. Expected 96, got 88\n",
      "  return f(*args, **kwds)\n",
      "/anaconda3/lib/python3.6/importlib/_bootstrap.py:219: RuntimeWarning: numpy.dtype size changed, may indicate binary incompatibility. Expected 96, got 88\n",
      "  return f(*args, **kwds)\n",
      "/anaconda3/lib/python3.6/importlib/_bootstrap.py:219: RuntimeWarning: numpy.dtype size changed, may indicate binary incompatibility. Expected 96, got 88\n",
      "  return f(*args, **kwds)\n",
      "/anaconda3/lib/python3.6/importlib/_bootstrap.py:219: RuntimeWarning: numpy.dtype size changed, may indicate binary incompatibility. Expected 96, got 88\n",
      "  return f(*args, **kwds)\n"
     ]
    }
   ],
   "source": [
    "from sklearn.decomposition import NMF\n",
    "from sklearn.metrics import mean_squared_error\n",
    "from sklearn.model_selection import train_test_split"
   ]
  },
  {
   "cell_type": "markdown",
   "metadata": {},
   "source": [
    "#### using pandas pivot to convert 'review' dataframe to the 'user_id' x 'business_id' matrix [did not work out] "
   ]
  },
  {
   "cell_type": "code",
   "execution_count": 55,
   "metadata": {},
   "outputs": [],
   "source": [
    "# # trying only with the first 50,000 rows\n",
    "# matrix_reduced = review_r[:50000].pivot(index='user_id', columns='business_id', values='stars')"
   ]
  },
  {
   "cell_type": "code",
   "execution_count": 56,
   "metadata": {},
   "outputs": [
    {
     "name": "stdout",
     "output_type": "stream",
     "text": [
      "(20076, 30915)\n",
      "<class 'pandas.core.frame.DataFrame'>\n",
      "Index: 20076 entries, ---PLwSf5gKdIoVnyRHgBA to zzq0TgPc5-b3-7XKt6fwJA\n",
      "Columns: 30915 entries, --6MefnULPED_I942VcFNA to zzwhN7x37nyjP0ZM8oiHmw\n",
      "dtypes: float64(30915)\n",
      "memory usage: 4.6+ GB\n",
      "None\n",
      "1518168\n",
      "188593\n",
      "The non-NaN entries in the target matrix is 0.002094537148506619%\n"
     ]
    }
   ],
   "source": [
    "# print(matrix_reduced.shape)\n",
    "# print(matrix_reduced.info())\n",
    "\n",
    "# # check the target matrix dimension\n",
    "# print(len(review_r.user_id.value_counts()))\n",
    "# print(len(review_r.business_id.value_counts()))\n",
    "\n",
    "# # check sparsity\n",
    "# print(\"The non-NaN entries in the target matrix is {}%\".format(len(review_r)*100/(len(review_r.user_id.value_counts())*len(review_r.business_id.value_counts()))))"
   ]
  },
  {
   "cell_type": "markdown",
   "metadata": {},
   "source": [
    "As shown, the matrix_reduced created by only pivoting the first 50,000 rows is already taking 4.6+ GB, and the matrix_reduced shape is 20076 x 30915.<br>\n",
    "The actual matrix shape will be len(review.user_id.value_counts()) x len(review.business_id.value_counts()), that is 1518168 x 188593, 461 times larger. Therefore, it's impossible given the space (memory) constrain. <br>\n",
    "\n",
    "Alternatively, the target matrix is very sparse, therefore to make it work with the memory constrain, the 'stars' rating in the 'review' dataframe needs to be pivoted into a sparse matrix directly, by 'user_id' and 'business_id'. "
   ]
  },
  {
   "cell_type": "markdown",
   "metadata": {},
   "source": [
    "#### pivot directly into a sparse matrix"
   ]
  },
  {
   "cell_type": "code",
   "execution_count": 47,
   "metadata": {},
   "outputs": [],
   "source": [
    "# define method for pivoting dataframe into a sparse matrix directly\n",
    "# version: python 3.6.5, pandas 0.23.3, numpy 1.15.0 scipy 1.1.0\n",
    "\n",
    "from scipy.sparse import csr_matrix\n",
    "from pandas.api.types import CategoricalDtype\n",
    "\n",
    "# return the resulting sparse matrix only\n",
    "def df_pivot_sparse_matrix_simple(df, idx, col, val):\n",
    "    \"\"\"pivot a pandas dataframe into sparse matrix directly using scipy.sparse.csr_matrix and return the resulting sparse matrix. \n",
    "    necessary when the df is large and pandas pivot (dense matrix) doesn't work due to space (memory) constrain. \n",
    "    ---\n",
    "    input\n",
    "    df: the pandas dataframe of interest\n",
    "    idx: the column name of the df to be used as the index in the sparse matrix;\n",
    "    col: the column name of the df to be used as the column in the sparse matrix;\n",
    "    val: the column name of the df to be used as the actual value in the sparse matrix;\n",
    "    ---\n",
    "    note: there should be only one unique value of each idx, col combination\n",
    "    \"\"\"\n",
    "    x = df[idx].astype(CategoricalDtype(ordered=True)).cat.codes\n",
    "    y = df[col].astype(CategoricalDtype(ordered=True)).cat.codes\n",
    "    return csr_matrix((df[val].values, (x, y)), shape=(df[idx].nunique(), df[col].nunique()))\n",
    "\n",
    "\n",
    "# return the resulting sparse matrix along with the mapping dictionaries of matrix indices to the orignial values in the corresponding columns of df\n",
    "def df_pivot_sparse_matrix(df, idx, col, val):\n",
    "    \"\"\"pivot a pandas dataframe into sparse matrix directly using scipy.sparse.csr_matrix and return the resulting sparse matrix, \n",
    "    necessary when the df is large and pandas pivot (dense matrix) doesn't work due to space (memory) constrain. \n",
    "    ---\n",
    "    input\n",
    "    df: the pandas dataframe of interest\n",
    "    idx: the column name of the df to be used as the index in the sparse matrix;\n",
    "    col: the column name of the df to be used as the column in the sparse matrix;\n",
    "    val: the column name of the df to be used as the actual value in the sparse matrix;\n",
    "    ---\n",
    "    return:\n",
    "    sparse_matrix: the resulting sparse matrix\n",
    "    map_idx: the dictionary to map the unique values in the idx column of the original df to the numerical row indices of the sparse matrix \n",
    "    map_col: the dictionary to map the uniqe values in the col column of the original df to the numerical column indices of the sparse matrix \n",
    "    ---\n",
    "    note: there should be only one unique value of each idx, col combination\n",
    "    \"\"\"\n",
    "    idx_c = CategoricalDtype(sorted(df[idx].unique()),ordered=True) # find unique values in the idx column and define as a categorical type\n",
    "    col_c = CategoricalDtype(sorted(df[col].unique()),ordered=True) # find unique values in the col column and define as a categorical type\n",
    "\n",
    "    x = df[idx].astype(idx_c).cat.codes # cast columns to the newly created categorical type and access the underlying integer codes (corresponding numbering of the categories)\n",
    "    y = df[col].astype(col_c).cat.codes \n",
    "    sparse_matrix = csr_matrix((df[val].values, (x, y)), \\\n",
    "                           shape=(len(idx_c.categories), len(col_c.categories))) # map to the sparse matrix\n",
    "    \n",
    "    map_idx = dict(zip(list(idx_c.categories),np.arange(len(idx_c.categories)))) # create the mapping dictionaries\n",
    "    map_col = dict(zip(list(col_c.categories),np.arange(len(col_c.categories))))\n",
    "                               \n",
    "    return sparse_matrix, map_idx, map_col"
   ]
  },
  {
   "cell_type": "code",
   "execution_count": 48,
   "metadata": {},
   "outputs": [
    {
     "name": "stdout",
     "output_type": "stream",
     "text": [
      "CPU times: user 8.16 s, sys: 1.12 s, total: 9.28 s\n",
      "Wall time: 10.1 s\n"
     ]
    }
   ],
   "source": [
    "%%time\n",
    "# convert to sparse matrix\n",
    "matrix, map_user_id, map_business_id = df_pivot_sparse_matrix(review_r, 'user_id', 'business_id', 'stars')"
   ]
  },
  {
   "cell_type": "code",
   "execution_count": 49,
   "metadata": {},
   "outputs": [
    {
     "name": "stdout",
     "output_type": "stream",
     "text": [
      "matrix shape: (1518168, 188593)\n",
      "memory use: 9.7545725 Mb\n",
      "int64\n",
      "5996992\n",
      "5996992\n"
     ]
    }
   ],
   "source": [
    "# inspect the sparse matrix\n",
    "\n",
    "# check shape\n",
    "print(\"matrix shape:\", matrix.shape)\n",
    "\n",
    "# check memory use\n",
    "print(\"memory use: {} Mb\".format((matrix.data.nbytes + matrix.indptr.nbytes + matrix.indices.nbytes)*0.125*1e-6))\n",
    "\n",
    "# check data type\n",
    "print(matrix.dtype)\n",
    "\n",
    "# check non-NaN values\n",
    "print(len(matrix.data))\n",
    "print(review_r.stars.notnull().sum())"
   ]
  },
  {
   "cell_type": "markdown",
   "metadata": {},
   "source": [
    "As shown, now the number of ratings in the sparse matrix is consistent with the number of non-NaN ratings in the 'review' dataset. "
   ]
  },
  {
   "cell_type": "code",
   "execution_count": 50,
   "metadata": {},
   "outputs": [
    {
     "name": "stdout",
     "output_type": "stream",
     "text": [
      "[('---1lKK3aKOuomHnwAkAow', 0), ('---89pEy_h9PvHwcHNbpyg', 1), ('---94vtJ_5o_nikEs6hUjg', 2), ('---PLwSf5gKdIoVnyRHgBA', 3), ('---cu1hq55BP9DWVXXKHZg', 4)]\n",
      "[('--1UhMGODdWsrMastO9DZw', 0), ('--6MefnULPED_I942VcFNA', 1), ('--7zmmkVg-IMGaXbuVd0SQ', 2), ('--8LPVSo5i0Oo61X01sV9A', 3), ('--9QQLMTbFzLJ_oT-ON3Xw', 4)]\n"
     ]
    }
   ],
   "source": [
    "# inspect the mapping dictionaries\n",
    "print(list(map_user_id.items())[:5])\n",
    "print(list(map_business_id.items())[:5])"
   ]
  },
  {
   "cell_type": "code",
   "execution_count": 57,
   "metadata": {},
   "outputs": [
    {
     "data": {
      "text/plain": [
       "3.736666832181768"
      ]
     },
     "execution_count": 57,
     "metadata": {},
     "output_type": "execute_result"
    }
   ],
   "source": [
    "# compute global mean of ratings based on the trainset\n",
    "global_mean_train = trainset.stars.mean()\n",
    "global_mean_train"
   ]
  },
  {
   "cell_type": "markdown",
   "metadata": {},
   "source": [
    "Note: the training data doesn't include all users and all restaurants, and this will be handled using a fallback rating: for users and restaurants that are not present in the trainset, return the global mean as the prediction. Global mean is computed from the trainset."
   ]
  },
  {
   "cell_type": "code",
   "execution_count": 58,
   "metadata": {},
   "outputs": [],
   "source": [
    "# convert trainset to sparse matrix\n",
    "trainset_m, train_map_user, train_map_business = df_pivot_sparse_matrix(trainset, 'user_id', 'business_id', 'stars')\n",
    "# testset_m, test_map_user, test_map_business = df_pivot_sparse_matrix(testset, 'user_id', 'business_id', 'stars')"
   ]
  },
  {
   "cell_type": "code",
   "execution_count": 59,
   "metadata": {},
   "outputs": [],
   "source": [
    "# compute performance\n",
    "\n",
    "def compute_performance(testset, user_matrix, item_matrix, user_mapper, item_mapper):\n",
    "    \"\"\" Predict and compute the RMSE(root mean squared error) of the predicted ratings vs true ratings on the testset\n",
    "    Return the RMSE and the list of predicted ratings\n",
    "    \"\"\"\n",
    "    y_true = list(testset.stars.values)\n",
    "    y_pred = list()\n",
    "    \n",
    "    for idx in testset.index:\n",
    "        u, b, r = testset.loc[idx, ['user_id','business_id','stars']]\n",
    "        if (u in user_mapper) and (b in item_mapper):\n",
    "            u_i, b_i = user_mapper[u], item_mapper[b]\n",
    "            r_pred = np.dot(user_matrix[u_i,:], item_matrix[:,b_i])\n",
    "        else: \n",
    "            r_pred = global_mean_train  # return global mean rating for unseen user or restaurant\n",
    "        y_pred.append(r_pred)\n",
    "    \n",
    "    assert len(y_true) == len(y_pred)\n",
    "    mse = mean_squared_error(y_true, y_pred)\n",
    "    return np.sqrt(mse), y_pred"
   ]
  },
  {
   "cell_type": "code",
   "execution_count": 62,
   "metadata": {
    "scrolled": false
   },
   "outputs": [
    {
     "name": "stdout",
     "output_type": "stream",
     "text": [
      "(1435047, 20)\n",
      "(20, 188544)\n",
      "CPU times: user 3min 20s, sys: 15.9 s, total: 3min 36s\n",
      "Wall time: 3min 31s\n"
     ]
    }
   ],
   "source": [
    "%%time\n",
    "\n",
    "# initiate a NMF algorithm and fit to the trainset\n",
    "model = NMF(n_components=20, tol=5e-5)\n",
    "W = model.fit_transform(trainset_m) # W is the user x latent feature matrix\n",
    "H = model.components_ # H is the latent feature x item matrix\n",
    "\n",
    "print(W.shape)\n",
    "print(H.shape)"
   ]
  },
  {
   "cell_type": "code",
   "execution_count": 63,
   "metadata": {},
   "outputs": [
    {
     "name": "stdout",
     "output_type": "stream",
     "text": [
      "3.723006268306729\n",
      "CPU times: user 6min 53s, sys: 9.28 s, total: 7min 2s\n",
      "Wall time: 7min 10s\n"
     ]
    }
   ],
   "source": [
    "%%time\n",
    "\n",
    "# test on the testset\n",
    "rmse, pred = compute_performance(testset, W, H, train_map_user, train_map_business)\n",
    "print(rmse) # RMSE on the testset"
   ]
  },
  {
   "cell_type": "code",
   "execution_count": 64,
   "metadata": {},
   "outputs": [
    {
     "name": "stdout",
     "output_type": "stream",
     "text": [
      "mean, max and min predicted ratings are: 0.575629918370714 11.537371553177916 0.0\n",
      "[0.00528969 0.07732393 0.16965126 0.85649762 3.73666683 3.73666683\n",
      " 3.73666683]\n"
     ]
    },
    {
     "data": {
      "image/png": "[encoded data removed]",
      "text/plain": [
       "<Figure size 432x288 with 1 Axes>"
      ]
     },
     "metadata": {},
     "output_type": "display_data"
    }
   ],
   "source": [
    "# look at the predicted ratings of the testset\n",
    "plt.hist(pred);\n",
    "print(\"mean, max and min predicted ratings are:\", sum(pred)/len(pred), max(pred), min(pred))\n",
    "print(np.quantile(pred,[0.5,0.75,0.8,0.85,0.9,0.95,0.99]))"
   ]
  },
  {
   "cell_type": "code",
   "execution_count": 65,
   "metadata": {},
   "outputs": [
    {
     "data": {
      "image/png": "[encoded data removed]",
      "text/plain": [
       "<Figure size 432x288 with 1 Axes>"
      ]
     },
     "metadata": {},
     "output_type": "display_data"
    }
   ],
   "source": [
    "# compare to the actual ratings of the testset\n",
    "plt.hist(testset.stars);"
   ]
  },
  {
   "cell_type": "markdown",
   "metadata": {},
   "source": [
    "Max predicted rating is 12.832, average predicted rating is 0.58. The 'rmse' is 3.723.\n",
    "As shown, the predicted ratings are bimodally distributed in the range of 0-1 and 3-4, too far off from the actual distribution."
   ]
  },
  {
   "cell_type": "markdown",
   "metadata": {},
   "source": [
    "# 3. The collaborative filtering module\n",
    "\n",
    "As shown above, both the SVD algorithm with bias terms and the NMF algorithm without bias terms from the scikit-surprise package serves for the matrix factorization purpose here, but the SVD algorithm provides a better performance. Not only does it have the lowest RMSE, but also, instead of returning a global mean rating for all restaurants in the case of unseen users, it actually returns an item-specific rating for individual restaurants as a result of having the item bias vector.\n",
    "\n",
    "Therefore, the SVD algorithm with bias terms is selected as the algorithm for collaborative filtering module, the parameters are first optimized via cross validation on the trainset, the algorithm is then updated and tested on the testset, and finally the algorithm is re-trained on the entire dataset and saved to file for use in the collaborative module. "
   ]
  },
  {
   "cell_type": "markdown",
   "metadata": {},
   "source": [
    "## 3.1 Re-train algorithm on entire dataset and save to file"
   ]
  },
  {
   "cell_type": "code",
   "execution_count": 73,
   "metadata": {},
   "outputs": [],
   "source": [
    "# %%time\n",
    "\n",
    "# # optimized SVD algorithm re-train on the entire dataset\n",
    "\n",
    "# # load the entire dataset into Surprise\n",
    "# svd_bias = SVD(n_factors=20, n_epochs = 50, biased=True, verbose=True) # initiate a SVD algorithm object with the bias terms\n",
    "# data = Dataset.load_from_df(review_r[['user_id','business_id','stars']], reader)\n",
    "# svd_bias.fit(data.build_full_trainset()) # prepare a trainset object out of the entire dataset to feed to .fit() method\n",
    "# pred_svd_bias = svd_bias.test(data.construct_testset(data.raw_ratings)) # prepare a testset object out of the entire dataset to feed to .test() method\n",
    "# accuracy.rmse(pred_svd_bias) # compute RMSE score"
   ]
  },
  {
   "cell_type": "code",
   "execution_count": 74,
   "metadata": {},
   "outputs": [],
   "source": [
    "# check there is no offset term (otherwise all prediction need to be adjusted by the offset)\n",
    "assert svd_bias.trainset.offset == 0\n",
    "\n",
    "# wrap all useful info from the trained model in a dictionary and pickle to file\n",
    "svd_trained_info = {'user_latent': svd_bias.pu,\n",
    "                    'item_latent': svd_bias.qi,\n",
    "                    'user_bias': svd_bias.bu,\n",
    "                    'item_bias': svd_bias.bi,\n",
    "                    'mean_rating': svd_bias.trainset.global_mean,\n",
    "                    'userid_to_index': svd_bias.trainset._raw2inner_id_users,\n",
    "                    'itemid_to_index': svd_bias.trainset._raw2inner_id_items\n",
    "                   }"
   ]
  },
  {
   "cell_type": "code",
   "execution_count": 75,
   "metadata": {},
   "outputs": [
    {
     "name": "stdout",
     "output_type": "stream",
     "text": [
      "CPU times: user 9.98 s, sys: 2.75 s, total: 12.7 s\n",
      "Wall time: 14.1 s\n"
     ]
    }
   ],
   "source": [
    "%%time\n",
    "\n",
    "# save all necessary information for prediction from the trained svd_bias model\n",
    "with open('svd_trained_info.pkl', 'wb') as f:\n",
    "    pickle.dump(svd_trained_info, f)\n",
    "\n",
    "# save all the information regarding the trained svd_bias model as a backup (this file will be large)\n",
    "with open('svd_bias_model_trained.pkl','wb') as f:\n",
    "    pickle.dump(svd_bias, f)"
   ]
  },
  {
   "cell_type": "markdown",
   "metadata": {},
   "source": [
    "## 3.2 Implementation"
   ]
  },
  {
   "cell_type": "code",
   "execution_count": 81,
   "metadata": {},
   "outputs": [],
   "source": [
    "class Recommender:\n",
    "    \n",
    "    def __init__(self, n=5, original_score=False):\n",
    "        \"\"\"initiate a Recommender object by passing the desired number of recommendations to make, the default number is 10.\n",
    "        By default, the adjusted score will be used for ranking; To rank by the original average rating of the restaurant, pass original_score=True\n",
    "        \"\"\"\n",
    "        self.n = n # number of recommendations to make, default is 5\n",
    "        self.original_score = original_score # boolean indicating whether the original average rating or the adjusted score is used\n",
    "        # initiate a list of column names to display in the recommendation results\n",
    "        self.column_to_display = ['state','city','name','address','attributes.RestaurantsPriceRange2','cuisine','style','review_count','stars','adjusted_score']\n",
    "        \n",
    "        # initiate the list of recommendations to be the entire catalog of the 'business' dataframe sorted by the score of interest\n",
    "        if self.original_score:  # set sorting criteria to the originial star rating\n",
    "            score = 'stars'\n",
    "        else:  # set sorting criteria to the adjusted score\n",
    "            score = 'adjusted_score'\n",
    "        self.recomm = business.sort_values(score, ascending=False)\n",
    "        \n",
    "    def display_recommendation(self):\n",
    "        \"\"\" Display the list of top n recommended restaurants\n",
    "        \"\"\"\n",
    "        # limit the list of recommendation to only top n at max\n",
    "        if self.n < len(self.recomm):\n",
    "            self.recomm = self.recomm.iloc[:self.n]\n",
    "        if len(self.recomm) == 0:\n",
    "            print(\"Sorry, there is no matching recommendations.\")\n",
    "        else: \n",
    "            print(\"The top {} recommended restaurants matching your keywords are\".format(self.n))\n",
    "            print(self.recomm[self.column_to_display])\n",
    "    \n",
    "    # personalized collaborative-based filtering recommender module\n",
    "    def collaborative(self, user_id=None):\n",
    "        \"\"\"Passing of user_id is required if personalized recommendation is desired.\n",
    "        \"\"\"\n",
    "        \n",
    "        self.user_id = user_id # user_id for personalized recommendation using collaborative filtering \n",
    "        if self.user_id is None:\n",
    "            print(\"no user_id is provided!\")\n",
    "            return None\n",
    "        if len(self.user_id) != 22:\n",
    "            print(\"invalid user id!\")\n",
    "            return None\n",
    "        \n",
    "        # initiate every time the module is called\n",
    "        self.recomm = business # start with the entire 'business' catalog\n",
    "        if 'predicted_stars' in self.recomm.columns:\n",
    "            self.recomm.drop('predicted_stars', axis=1, inplace=True) # delete the column of 'predicted_stars' if already present\n",
    "        self.column_to_display = ['state','city','name','address','attributes.RestaurantsPriceRange2',\\\n",
    "                                  'cuisine','style','review_count','stars','adjusted_score'] # reset the columns to display\n",
    "        \n",
    "        # load and extract the necessary info fro the trained matrix factorization algorithm\n",
    "        with open('svd_trained_info.pkl', 'rb') as f:\n",
    "            svd_trained_info = pickle.load(f)\n",
    "        user_latent = svd_trained_info['user_latent']\n",
    "        item_latent = svd_trained_info['item_latent']\n",
    "        user_bias = svd_trained_info['user_bias']\n",
    "        item_bias = svd_trained_info['item_bias']\n",
    "        r_mean = svd_trained_info['mean_rating'] # global mean of all ratings\n",
    "        userid_to_idx = svd_trained_info['userid_to_index']\n",
    "        itemid_to_idx = svd_trained_info['itemid_to_index']\n",
    "        \n",
    "        # predict personalized restaurant ratings for the user_id of interest\n",
    "        if self.user_id in userid_to_idx:\n",
    "            u_idx = userid_to_idx[self.user_id]\n",
    "            pred = r_mean + user_bias[u_idx] + item_bias + np.dot(user_latent[u_idx,:],item_latent.T)\n",
    "        else: \n",
    "            print(\"sorry, no personal data available for this user_id yet!\")\n",
    "            print(\"Here is the generic recommendation computed from all the users in our database:\")\n",
    "            pred = r_mean + item_bias\n",
    "        \n",
    "        # pairing the predicted ratings with the business_id by matching the corresponding matrix indices of the business_id\n",
    "        prediction = pd.DataFrame(data=pred, index=itemid_to_idx.values(), columns=['predicted_stars']) \n",
    "        prediction.index.name = 'matrix_item_indice'\n",
    "        assert len(prediction) == len(pred)\n",
    "        prediction['business_id'] = list(itemid_to_idx.keys())\n",
    "        \n",
    "        # filter to unrated business_id only by the user_id of interest if a personal history is available\n",
    "        if self.user_id in userid_to_idx:       \n",
    "            unrated_busi = set(review_r.business_id).difference(set(review_r[review_r.user_id == self.user_id].business_id))\n",
    "            prediction = prediction.set_index('business_id').loc[unrated_busi].reset_index()\n",
    "        \n",
    "        # inner-join the prediction dataframe with the recommendation catalog on 'business_id' to retrieve all relevant business informations\n",
    "        # note: the .merge step needs to be performed prior to extracting the top n\n",
    "        # because many of the 'business_id' in the review dataframe are not restaurant-related, therefore not present in the 'business' catalog\n",
    "        self.recomm = self.recomm.merge(prediction, on='business_id', how='inner') \n",
    "        \n",
    "        # sort the prediction by the predicted ratings in descending order\n",
    "        self.recomm = self.recomm.sort_values('predicted_stars', ascending=False).reset_index(drop=True)\n",
    "        \n",
    "        # add 'predicted_stars' to the list of columns to display\n",
    "        self.column_to_display.insert(0, 'predicted_stars') \n",
    "        \n",
    "        # display the list of top n recommendations\n",
    "        self.display_recommendation()\n",
    "        \n",
    "        return self.recomm"
   ]
  },
  {
   "cell_type": "markdown",
   "metadata": {},
   "source": [
    "## 3.2 Testing"
   ]
  },
  {
   "cell_type": "code",
   "execution_count": 69,
   "metadata": {},
   "outputs": [
    {
     "name": "stdout",
     "output_type": "stream",
     "text": [
      "------\n",
      "result from test0 (display only): \n",
      "The top 5 recommended restaurants matching your keywords are\n",
      "      state             city                name  \\\n",
      "7464     AZ          Phoenix     Little Miss BBQ   \n",
      "31910    NV        Las Vegas        Brew Tea Bar   \n",
      "45401    NV        Las Vegas          Gelatology   \n",
      "7784     NV  North Las Vegas        Poke Express   \n",
      "28162    NV        Las Vegas  Meráki Greek Grill   \n",
      "\n",
      "                            address  attributes.RestaurantsPriceRange2  \\\n",
      "7464           4301 E University Dr                                2.0   \n",
      "31910  7380 S Rainbow Blvd, Ste 101                                1.0   \n",
      "45401  7910 S Rainbow Blvd, Ste 110                                1.0   \n",
      "7784        655 W Craig Rd, Ste 118                                2.0   \n",
      "28162  4950 S Rainbow Blvd, Ste 160                                2.0   \n",
      "\n",
      "                                   cuisine               style  review_count  \\\n",
      "7464                              barbeque         restaurants          1746   \n",
      "31910                 desserts, bubble tea  cafes, restaurants          1380   \n",
      "45401  ice cream & frozen yogurt, desserts                 NaN           547   \n",
      "7784                              hawaiian         restaurants           520   \n",
      "28162                 greek, mediterranean         restaurants           472   \n",
      "\n",
      "       stars  adjusted_score  \n",
      "7464     5.0        4.984169  \n",
      "31910    5.0        4.980037  \n",
      "45401    5.0        4.950811  \n",
      "7784     5.0        4.948360  \n",
      "28162    5.0        4.943342  \n",
      "------\n",
      "result from test1 (no user id input): \n",
      "no user_id is provided!\n",
      "------\n",
      "result from test2 (invalid user id input): \n",
      "invalid user id!\n",
      "CPU times: user 82.1 ms, sys: 398 ms, total: 480 ms\n",
      "Wall time: 1.6 s\n"
     ]
    }
   ],
   "source": [
    "%%time\n",
    "\n",
    "# initiate a Recommender object\n",
    "kw = Recommender(n=5)\n",
    "\n",
    "# test0: display only (same as no keywords)\n",
    "print(\"------\\nresult from test0 (display only): \")\n",
    "kw.display_recommendation()\n",
    "\n",
    "# test1: no user id input\n",
    "print(\"------\\nresult from test1 (no user id input): \")\n",
    "kw.collaborative();\n",
    "\n",
    "# test 2: invalid user id input\n",
    "print(\"------\\nresult from test2 (invalid user id input): \")\n",
    "kw.collaborative(user_id='928402');"
   ]
  },
  {
   "cell_type": "code",
   "execution_count": 70,
   "metadata": {
    "scrolled": false
   },
   "outputs": [
    {
     "name": "stdout",
     "output_type": "stream",
     "text": [
      "------\n",
      "result from test3 (valid user id --- no user review data): \n",
      "sorry, no personal data available for this user_id yet!\n",
      "Here is the generic recommendation computed from all the users in our database:\n",
      "The top 5 recommended restaurants matching your keywords are\n",
      "   predicted_stars state       city                            name  \\\n",
      "0         4.965263    WI    Madison         The Conscious Carnivore   \n",
      "1         4.950097    AZ    Gilbert              Dreamland Bouncers   \n",
      "2         4.949568    NV  Henderson               Cakes On the Move   \n",
      "3         4.943407    NV  Las Vegas  Tokyo Peking Asian Restaurants   \n",
      "4         4.941919    AZ    Phoenix            Binkley's Restaurant   \n",
      "\n",
      "                          address  attributes.RestaurantsPriceRange2  \\\n",
      "0      3236 University Ave, Ste A                                2.0   \n",
      "1   3317 S Higley Rd, Ste 114-251                                NaN   \n",
      "2           1211 Santa Helena Ave                                2.0   \n",
      "3  750 East Pyle Ave, Ste 108-109                                2.0   \n",
      "4                2320 E Osborn Rd                                4.0   \n",
      "\n",
      "                              cuisine                         style  \\\n",
      "0                                 NaN                           NaN   \n",
      "1                                 NaN                           NaN   \n",
      "2                            bakeries                           NaN   \n",
      "3  japanese, asian fusion, sushi bars                   restaurants   \n",
      "4                      american (new)  bars, restaurants, nightlife   \n",
      "\n",
      "   review_count  stars  adjusted_score  \n",
      "0            29    5.0        4.451200  \n",
      "1            41    5.0        4.555733  \n",
      "2            59    5.0        4.654459  \n",
      "3            31    5.0        4.471909  \n",
      "4            51    5.0        4.616592  \n",
      "CPU times: user 1.21 s, sys: 665 ms, total: 1.88 s\n",
      "Wall time: 2.33 s\n"
     ]
    }
   ],
   "source": [
    "%%time\n",
    "\n",
    "# test 3: valid user id (no user data)\n",
    "print(\"------\\nresult from test3 (valid user id --- no user review data): \")\n",
    "kw.collaborative(user_id='-NzChtoNOw706kps82x0Kg');"
   ]
  },
  {
   "cell_type": "code",
   "execution_count": 78,
   "metadata": {
    "scrolled": false
   },
   "outputs": [
    {
     "name": "stdout",
     "output_type": "stream",
     "text": [
      "------\n",
      "result from test4 (valid user id --- user has over 100 reviews): \n"
     ]
    },
    {
     "name": "stderr",
     "output_type": "stream",
     "text": [
      "/anaconda3/lib/python3.6/site-packages/ipykernel_launcher.py:79: FutureWarning: \n",
      "Passing list-likes to .loc or [] with any missing label will raise\n",
      "KeyError in the future, you can use .reindex() as an alternative.\n",
      "\n",
      "See the documentation here:\n",
      "https://pandas.pydata.org/pandas-docs/stable/indexing.html#deprecate-loc-reindex-listlike\n"
     ]
    },
    {
     "name": "stdout",
     "output_type": "stream",
     "text": [
      "The top 5 recommended restaurants matching your keywords are\n",
      "   predicted_stars state       city                                 name  \\\n",
      "0         6.299853    NV  Las Vegas  Biwon Korean BBQ & Sushi Restaurant   \n",
      "1         6.286108    NV  Henderson                            Egg Works   \n",
      "2         6.220048    NV  Las Vegas               Capo's Italian Cuisine   \n",
      "3         6.202842    AZ    Gilbert                   Brio Tuscan Grille   \n",
      "4         6.131563    NV  Las Vegas                               Hikari   \n",
      "\n",
      "                             address  attributes.RestaurantsPriceRange2  \\\n",
      "0                  2721 W Sahara Ave                                2.0   \n",
      "1                10839 S Eastern Ave                                2.0   \n",
      "2                  5675 W Sahara Ave                                2.0   \n",
      "3  2150 E Williams Field Rd, Ste 118                                2.0   \n",
      "4                  4175 S Buffalo Dr                                2.0   \n",
      "\n",
      "                                             cuisine  \\\n",
      "0  japanese, asian fusion, barbeque, korean, sush...   \n",
      "1                       american (traditional), soup   \n",
      "2                                            italian   \n",
      "3                                     italian, pizza   \n",
      "4                               japanese, sushi bars   \n",
      "\n",
      "                                               style  review_count  stars  \\\n",
      "0                                        restaurants           557    4.0   \n",
      "1  breakfast & brunch, restaurants, cafes, nightl...           644    4.5   \n",
      "2                                        restaurants          1247    4.0   \n",
      "3        bars, cocktail bars, nightlife, restaurants           464    4.0   \n",
      "4                                        restaurants           703    4.0   \n",
      "\n",
      "   adjusted_score  \n",
      "0        3.989657  \n",
      "1        4.474491  \n",
      "2        3.995281  \n",
      "3        3.987677  \n",
      "4        3.991740  \n",
      "CPU times: user 3.2 s, sys: 1.33 s, total: 4.53 s\n",
      "Wall time: 5.46 s\n"
     ]
    }
   ],
   "source": [
    "%%time\n",
    "\n",
    "# test 4: valid user id (user has over 100 reviews)\n",
    "print(\"------\\nresult from test4 (valid user id --- user has over 100 reviews): \")\n",
    "kw.collaborative(user_id='---1lKK3aKOuomHnwAkAow');"
   ]
  },
  {
   "cell_type": "code",
   "execution_count": 80,
   "metadata": {},
   "outputs": [
    {
     "name": "stdout",
     "output_type": "stream",
     "text": [
      "------\n",
      "result from test5 (valid user id --- user has only one review): \n"
     ]
    },
    {
     "name": "stderr",
     "output_type": "stream",
     "text": [
      "/anaconda3/lib/python3.6/site-packages/ipykernel_launcher.py:79: FutureWarning: \n",
      "Passing list-likes to .loc or [] with any missing label will raise\n",
      "KeyError in the future, you can use .reindex() as an alternative.\n",
      "\n",
      "See the documentation here:\n",
      "https://pandas.pydata.org/pandas-docs/stable/indexing.html#deprecate-loc-reindex-listlike\n"
     ]
    },
    {
     "name": "stdout",
     "output_type": "stream",
     "text": [
      "The top 5 recommended restaurants matching your keywords are\n",
      "   predicted_stars state       city                  name  \\\n",
      "0         5.184999    NV  Las Vegas        Freed's Bakery   \n",
      "1         5.179756    OH  Macedonia               Pronto!   \n",
      "2         5.158894    NV  Las Vegas            Echo & Rig   \n",
      "3         5.132254    NV  Las Vegas  Buddy V's Ristorante   \n",
      "4         5.131649    NV  Las Vegas             Cloud Tea   \n",
      "\n",
      "                       address  attributes.RestaurantsPriceRange2  \\\n",
      "0           9815 S Eastern Ave                                2.0   \n",
      "1            223 E Highland Rd                                2.0   \n",
      "2           440 S Rampart Blvd                                2.0   \n",
      "3        3327 S Las Vegas Blvd                                2.0   \n",
      "4  4045 S Buffalo Dr, Ste A108                                1.0   \n",
      "\n",
      "                                             cuisine  \\\n",
      "0       bakeries, desserts, cupcakes, american (new)   \n",
      "1                            italian, american (new)   \n",
      "2                                     specialty food   \n",
      "3                    american (traditional), italian   \n",
      "4  bubble tea, coffee & tea, ice cream & frozen y...   \n",
      "\n",
      "                             style  review_count  stars  adjusted_score  \n",
      "0  restaurants, breakfast & brunch           913    4.0        3.993595  \n",
      "1                      restaurants            35    5.0        4.508968  \n",
      "2                      restaurants          2169    4.5        4.492246  \n",
      "3                      restaurants          1472    4.0        3.995991  \n",
      "4           juice bars & smoothies            84    5.0        4.735955  \n",
      "CPU times: user 2.92 s, sys: 578 ms, total: 3.5 s\n",
      "Wall time: 3.48 s\n"
     ]
    }
   ],
   "source": [
    "%%time\n",
    "\n",
    "# test 5: valid user id (user has only one review)\n",
    "print(\"------\\nresult from test5 (valid user id --- user has only one review): \")\n",
    "kw.collaborative(user_id='---89pEy_h9PvHwcHNbpyg');"
   ]
  },
  {
   "cell_type": "code",
   "execution_count": null,
   "metadata": {},
   "outputs": [],
   "source": []
  }
 ],
 "metadata": {
  "kernelspec": {
   "display_name": "Python 3",
   "language": "python",
   "name": "python3"
  },
  "language_info": {
   "codemirror_mode": {
    "name": "ipython",
    "version": 3
   },
   "file_extension": ".py",
   "mimetype": "text/x-python",
   "name": "python",
   "nbconvert_exporter": "python",
   "pygments_lexer": "ipython3",
   "version": "3.6.5"
  }
 },
 "nbformat": 4,
 "nbformat_minor": 2
}
