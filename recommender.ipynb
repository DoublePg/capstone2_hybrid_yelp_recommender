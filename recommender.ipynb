{
 "cells": [
  {
   "cell_type": "markdown",
   "metadata": {},
   "source": [
    "Only a subset of Yelp restaurants from a few selected states are available in this dataset. Among them, only Arizona, Nevada, Ohio, North Carolina and Pennsylvania have a rich catalog of over 5000 restaurants. \n",
    "\n",
    "Only the top two states, Arizona and Nevada have over 10000 restaurants. "
   ]
  },
  {
   "cell_type": "code",
   "execution_count": 1,
   "metadata": {},
   "outputs": [
    {
     "name": "stderr",
     "output_type": "stream",
     "text": [
      "/anaconda3/lib/python3.6/importlib/_bootstrap.py:219: RuntimeWarning: numpy.dtype size changed, may indicate binary incompatibility. Expected 96, got 88\n",
      "  return f(*args, **kwds)\n",
      "/anaconda3/lib/python3.6/importlib/_bootstrap.py:219: RuntimeWarning: numpy.dtype size changed, may indicate binary incompatibility. Expected 96, got 88\n",
      "  return f(*args, **kwds)\n"
     ]
    }
   ],
   "source": [
    "import pandas as pd\n",
    "import numpy as np\n",
    "\n",
    "business = pd.read_csv('business_clean.csv')  # contains business data including location data, attributes and categories\n",
    "review = pd.read_csv('review_clean.csv') # # contains full review text data including the user_id that wrote the review and the business_id the review is written for"
   ]
  },
  {
   "cell_type": "markdown",
   "metadata": {},
   "source": [
    "# 1. Calculate Geodesic distance between two points on the globe"
   ]
  },
  {
   "cell_type": "code",
   "execution_count": 2,
   "metadata": {},
   "outputs": [],
   "source": [
    "# calculate geodesic distances between two points on a globe, see https://janakiev.com/blog/gps-points-distance-python/ for more resource\n",
    "# alternatively, one can use geopy.distance from geopy package to calculate either geodesic or great circle distance, https://github.com/geopy/geopy/blob/master/geopy/distance.py\n",
    "\n",
    "def great_circle_mile(lat1, lon1, lat2, lon2):\n",
    "    \"\"\"\n",
    "    Compute geodesic distances (great-circle distance) of two points given their coordinates. \n",
    "    The function returns the distance in miles. \n",
    "    Note: 1. Calculation uses the earth's mean radius of 6371.009 km, \n",
    "    2. The central subtended angle is calculated by formula: \n",
    "    alpha = cos-1*[sin(lat1)*sin(lat2)+ cos(lat1)*cos(lat2)*cos(lon1-lon2)]\n",
    "    \"\"\"\n",
    "    \n",
    "    from math import sin, cos, acos, radians\n",
    "    \n",
    "    lat1, lon1, lat2, lon2 = radians(lat1), radians(lon1), radians(lat2), radians(lon2) # convert degrees to radians\n",
    "    earth_radius = 6371.009  # use earth's mean radius in kilometers\n",
    "    alpha = acos(sin(lat1)*sin(lat2) + cos(lat1)*cos(lat2)*cos(lon1-lon2)) # alpha is in radians\n",
    "    dis_km = alpha * earth_radius\n",
    "    dis_mile = dis_km * 0.621371   # convert kilometer to mile\n",
    "    \n",
    "    return dis_mile"
   ]
  },
  {
   "cell_type": "code",
   "execution_count": 3,
   "metadata": {},
   "outputs": [],
   "source": [
    "pos1 = (51.5073219, -0.1276474) # London\n",
    "pos2 = (52.5170365, 13.3888599) # Berlin\n",
    "pos3 = (-33.8548157,151.2164539) # Sydney"
   ]
  },
  {
   "cell_type": "code",
   "execution_count": 4,
   "metadata": {},
   "outputs": [
    {
     "name": "stdout",
     "output_type": "stream",
     "text": [
      "2.54 µs ± 581 ns per loop (mean ± std. dev. of 7 runs, 100000 loops each)\n"
     ]
    }
   ],
   "source": [
    "%%timeit\n",
    "# great_circle distance\n",
    "distance_12 = great_circle_mile(pos1[0], pos1[1], pos2[0], pos2[1])\n",
    "distance_12"
   ]
  },
  {
   "cell_type": "code",
   "execution_count": 5,
   "metadata": {},
   "outputs": [],
   "source": [
    "from geopy.distance import distance"
   ]
  },
  {
   "cell_type": "code",
   "execution_count": 6,
   "metadata": {},
   "outputs": [
    {
     "name": "stdout",
     "output_type": "stream",
     "text": [
      "231 µs ± 16 µs per loop (mean ± std. dev. of 7 runs, 1000 loops each)\n"
     ]
    }
   ],
   "source": [
    "%%timeit\n",
    "# geodesic distance\n",
    "distance2_12 = distance(pos1, pos2).miles\n",
    "distance2_12"
   ]
  },
  {
   "cell_type": "code",
   "execution_count": 7,
   "metadata": {},
   "outputs": [],
   "source": [
    "distance_12 = great_circle_mile(pos1[0], pos1[1], pos2[0], pos2[1])\n",
    "distance2_12 = distance(pos1, pos2).miles\n",
    "error_12 = (distance_12 - distance2_12)/distance2_12"
   ]
  },
  {
   "cell_type": "code",
   "execution_count": 8,
   "metadata": {},
   "outputs": [],
   "source": [
    "distance_13 = great_circle_mile(pos1[0], pos1[1], pos3[0], pos3[1])\n",
    "distance2_13 = distance(pos1, pos3).miles\n",
    "error_13 = (distance_13 - distance2_13)/distance2_13"
   ]
  },
  {
   "cell_type": "code",
   "execution_count": 9,
   "metadata": {},
   "outputs": [
    {
     "name": "stdout",
     "output_type": "stream",
     "text": [
      "absolute error: -1.8326838373754981 2.892945931140275\n",
      "percent error: -0.0031598293601707256 0.0002740520023695907\n"
     ]
    }
   ],
   "source": [
    "# print errors, 1-2 is distance between London and Berlin, 1-3 is distance between London and Sydney\n",
    "print(\"absolute error:\", (distance_12-distance2_12), (distance_13-distance2_13)) \n",
    "print(\"percent error:\", error_12, error_13)"
   ]
  },
  {
   "cell_type": "markdown",
   "metadata": {},
   "source": [
    "### Quick summary: \n",
    "Great-circle distance is reasonably accurate when compared with the geodesic distance calculated from an ellipsoidal model of the earth. Given that calculating great-circle distance is at least 100 times faster on average, great-circle distance will be used in this project when calculating geodistance on map."
   ]
  },
  {
   "cell_type": "markdown",
   "metadata": {},
   "source": [
    "# 2. Adjusted rating"
   ]
  },
  {
   "cell_type": "markdown",
   "metadata": {},
   "source": [
    "Here, a single metric is introduced as a substitute of the original average restaurant rating ('stars' column of the business dataframe). Ideally, the new metric should take into consideration: <br>\n",
    "1) average rating of the restaurant (indicates the goodness of the restaurant, but does not consider popularity) <br>\n",
    "2) # of ratings by users (indicates popularity, but does not imply the goodness of the restaurant) <br>\n",
    "3) age of the rating (indicates the relevance of the rating, as outdated ratings might fail to indicate the actual quality)<br>\n",
    "\n",
    "The proposed new score is: \n",
    "$$score_i = \\frac{\\sum_u r_{ui} + k*\\mu}{n_i+k}$$\n",
    "\n",
    "where $r_ui$ is the rating on item i by user u, $n_i$ is the number of rating on item i, $\\mu$ is the global mean of ratings over all businesses and all users and k is the strength of the damping term.\n",
    "\n",
    "As the equation shows, the adjusted score uses the mechanism of the damped mean to regulate the extreme cases of having only a few extreme ratings. k controls the strength of the damping effect: the larger k is, the more actual ratings are required to overcome the global mean.\n",
    "\n",
    "In this case, k is set to 4 (which is the 10% quantile of the review counts for all businesses), but it can be tuned according to various business considerations.  \n",
    "\n",
    "Note:<br> \n",
    "Here, the age of the rating is not adjusted in the current version of the proposed metric. This is because 90% of the reviews/ratings are from year 2011 and later, and are considered quite relevant. Therefore, the need of adjusting for the age of the ratings is not strong."
   ]
  },
  {
   "cell_type": "code",
   "execution_count": 10,
   "metadata": {},
   "outputs": [
    {
     "name": "stdout",
     "output_type": "stream",
     "text": [
      "global mean rating is: 3.7277814701620127\n"
     ]
    }
   ],
   "source": [
    "# compute globe mean ratings of all businesses and all reviews\n",
    "globe_mean = ((business.stars * business.review_count).sum())/(business.review_count.sum())\n",
    "print(\"global mean rating is:\", globe_mean)"
   ]
  },
  {
   "cell_type": "code",
   "execution_count": 11,
   "metadata": {},
   "outputs": [
    {
     "name": "stdout",
     "output_type": "stream",
     "text": [
      "0.10      4.0\n",
      "0.25      8.0\n",
      "0.50     22.0\n",
      "0.75     66.0\n",
      "0.90    172.0\n",
      "Name: review_count, dtype: float64\n",
      "\n",
      "rank by the adjusted score in descending order:\n",
      "       stars  review_count  adjusted_score\n",
      "7464     5.0          1746        4.997092\n",
      "31910    5.0          1380        4.996323\n",
      "45401    5.0           547        4.990764\n",
      "7784     5.0           520        4.990288\n",
      "28162    5.0           472        4.989309\n",
      "\n",
      "rank by the original score in descending order:\n",
      "       stars  review_count  adjusted_score\n",
      "22115    5.0             7        4.537375\n",
      "23114    5.0             5        4.434570\n",
      "42990    5.0             5        4.434570\n",
      "42989    5.0            16        4.745556\n",
      "12778    5.0             3        4.273018\n",
      "\n",
      "rank by the least number of reviews:\n",
      "       stars  review_count  adjusted_score\n",
      "0        4.5             3        4.058732\n",
      "5707     4.0             3        3.844447\n",
      "16594    4.0             3        3.844447\n",
      "5699     3.5             3        3.630161\n",
      "16605    3.5             3        3.630161\n"
     ]
    }
   ],
   "source": [
    "print(business.review_count.quantile([0.1,0.25,0.5,0.75,0.9]))\n",
    "k = 4 # set strength k to 4, which is the 10% quantile of the review counts for all businesses\n",
    "business['adjusted_score'] = (business.review_count * business.stars + k * globe_mean)/(business.review_count + k)\n",
    "print(\"\\nrank by the adjusted score in descending order:\")\n",
    "print(business[['stars','review_count','adjusted_score']].sort_values('adjusted_score', ascending=False).head(5))\n",
    "print(\"\\nrank by the original score in descending order:\")\n",
    "print(business[['stars','review_count','adjusted_score']].sort_values('stars', ascending=False).head(5))\n",
    "print(\"\\nrank by the least number of reviews:\")\n",
    "print(business[['stars','review_count','adjusted_score']].sort_values('review_count', ascending=True).head(5))"
   ]
  },
  {
   "cell_type": "markdown",
   "metadata": {},
   "source": [
    "# Create recommender class"
   ]
  },
  {
   "cell_type": "code",
   "execution_count": 12,
   "metadata": {},
   "outputs": [],
   "source": [
    "# initiate a new column in dataframe business to store the distance computed from the restaurant to the location of interest\n",
    "business['distance'] = np.nan"
   ]
  },
  {
   "cell_type": "code",
   "execution_count": 15,
   "metadata": {},
   "outputs": [],
   "source": [
    "class Recommender:\n",
    "    \n",
    "    toplist = []  # store the list of indexes of the recommended restaurants\n",
    "    original_score = False # boolean indicating whether the originial average rating or the adjusted score is used, default is False\n",
    "    n = 10 # number of recommendations to make, default is 10\n",
    "    zipcode = None\n",
    "    city = None\n",
    "    state = None\n",
    "    distance = 10 # max distance between the restaurants and the location of interest, default is 10\n",
    "    cuisine = None\n",
    "    style = None\n",
    "    user_id = None # user_id for personalized recommendation using either content_based or collaborative filtering\n",
    "    \n",
    "    def filter_by_cuisine(self, df):\n",
    "        # to be added\n",
    "        return df\n",
    "    \n",
    "    def filter_by_style(self, df):  \n",
    "        # to be added\n",
    "        return df\n",
    "    \n",
    "    def keyword(self):\n",
    "        recomm = business\n",
    "        if (self.zipcode is None) and (self.city is None) and (self.state is None):\n",
    "            if self.cuisine is not None:\n",
    "                recomm = filter_by_cuisine(recomm)\n",
    "            if self.style is not None:\n",
    "                recomm = filter_by_style(recomm)            \n",
    "                # to be continued\n",
    "        recomm = recomm.sort_values('adjusted_score', ascending=False)[:n]\n",
    "        return list(recomm.index)\n",
    "    \n",
    "    def content(self):\n",
    "    \n",
    "    def collaborative(self):\n",
    "        "
   ]
  },
  {
   "cell_type": "code",
   "execution_count": null,
   "metadata": {},
   "outputs": [],
   "source": []
  },
  {
   "cell_type": "markdown",
   "metadata": {},
   "source": [
    "# Functions to control API interfaces"
   ]
  },
  {
   "cell_type": "code",
   "execution_count": 16,
   "metadata": {},
   "outputs": [],
   "source": [
    "# need to provide a list of top cuisines, or styles to choose from for the user interface\n",
    "\n",
    "def display_recommendation(toplist=None):\n",
    "    if toplist == None or len(toplist) == 0:\n",
    "        print(\"Sorry, there is no recommendations yet.\")\n",
    "    else: \n",
    "        recomm = business.loc[toplist,['state','city','name','address','distance','attributes.RestaurantsPriceRange2','cuisine','style','review_count','stars','adjusted_score']]\n",
    "        print(recomm)"
   ]
  },
  {
   "cell_type": "code",
   "execution_count": null,
   "metadata": {},
   "outputs": [],
   "source": []
  },
  {
   "cell_type": "markdown",
   "metadata": {},
   "source": [
    "### Business dataset joins review dataset"
   ]
  },
  {
   "cell_type": "code",
   "execution_count": 17,
   "metadata": {},
   "outputs": [],
   "source": [
    "busi_review = business[['business_id','stars','review_count']].merge(review[['business_id','review_id','stars']], on='business_id')"
   ]
  },
  {
   "cell_type": "code",
   "execution_count": 18,
   "metadata": {},
   "outputs": [
    {
     "name": "stdout",
     "output_type": "stream",
     "text": [
      "                        business_id  review_count\n",
      "business_id                                      \n",
      "--7zmmkVg-IMGaXbuVd0SQ           54            54\n",
      "--9e1ONYQuAa-CB_Rrw7Tw         1546          1546\n",
      "--DdmeR16TRb3LsjG0ejrQ            5             5\n",
      "--FBCX-N37CMYDfs790Bnw          125           125\n",
      "--GM_ORV2cYS-h38DSaCLw            8             8\n",
      "47553\n",
      "                        business_id  review_count\n",
      "business_id                                      \n",
      "--cjBEbXMI2obtaRHNSFrA           64            63\n",
      "-6h3K1hj0d4DRcZNUtHDuw          488           489\n",
      "-6tvduBzjLI1ISfs3F_qTg         1074          1075\n",
      "-8O8sVCnaIKHP-596zN9UA          177           176\n",
      "-8iwcXhLnyqbLgvcrJGgaw          171           170\n",
      "1661\n"
     ]
    }
   ],
   "source": [
    "# compare the consistency of review counts from business dataset vs review dataset\n",
    "compare_review = busi_review.groupby('business_id')[['business_id','review_count']].agg({'business_id':'count','review_count':'mean'})\n",
    "print(compare_review.head())\n",
    "print(len(compare_review))\n",
    "print(compare_review[compare_review.business_id != compare_review.review_count].head())\n",
    "print(len(compare_review[compare_review.business_id != compare_review.review_count]))"
   ]
  },
  {
   "cell_type": "code",
   "execution_count": 19,
   "metadata": {},
   "outputs": [
    {
     "name": "stdout",
     "output_type": "stream",
     "text": [
      "                        stars_x   stars_y  stars_y_round\n",
      "business_id                                             \n",
      "--7zmmkVg-IMGaXbuVd0SQ      4.0  3.870370            4.0\n",
      "--9e1ONYQuAa-CB_Rrw7Tw      4.0  4.102846            4.0\n",
      "--DdmeR16TRb3LsjG0ejrQ      3.0  3.200000            3.0\n",
      "--FBCX-N37CMYDfs790Bnw      4.0  3.768000            4.0\n",
      "--GM_ORV2cYS-h38DSaCLw      4.0  4.250000            4.5\n",
      "47553\n",
      "                        stars_x   stars_y  stars_y_round\n",
      "business_id                                             \n",
      "--GM_ORV2cYS-h38DSaCLw      4.0  4.250000            4.5\n",
      "-7d3UqQYYcBxbDH2do86sg      3.0  3.250000            3.5\n",
      "-AGdGGCeTS-njB_8GkUmjQ      4.0  4.250000            4.5\n",
      "-G7MPSNBpxRJmtrJxdwt7A      3.5  3.227273            3.0\n",
      "-J6xWAvDJJW4zb7J9YpYOA      2.0  2.250000            2.5\n",
      "942\n"
     ]
    }
   ],
   "source": [
    "# compare the consistency of average rating from business dataset vs review dataset\n",
    "compare_rating = busi_review.groupby('business_id')[['stars_x','stars_y']].mean()\n",
    "compare_rating['stars_y_round'] = (compare_rating.stars_y//0.5)*0.5 + ((compare_rating.stars_y % 0.5)//0.25)*0.5\n",
    "print(compare_rating.head())\n",
    "print(len(compare_rating))\n",
    "print(compare_rating[compare_rating.stars_x != compare_rating.stars_y_round].head())\n",
    "print(len(compare_rating[compare_rating.stars_x != compare_rating.stars_y_round]))"
   ]
  },
  {
   "cell_type": "code",
   "execution_count": null,
   "metadata": {},
   "outputs": [],
   "source": []
  }
 ],
 "metadata": {
  "kernelspec": {
   "display_name": "Python 3",
   "language": "python",
   "name": "python3"
  },
  "language_info": {
   "codemirror_mode": {
    "name": "ipython",
    "version": 3
   },
   "file_extension": ".py",
   "mimetype": "text/x-python",
   "name": "python",
   "nbconvert_exporter": "python",
   "pygments_lexer": "ipython3",
   "version": "3.6.5"
  }
 },
 "nbformat": 4,
 "nbformat_minor": 2
}
