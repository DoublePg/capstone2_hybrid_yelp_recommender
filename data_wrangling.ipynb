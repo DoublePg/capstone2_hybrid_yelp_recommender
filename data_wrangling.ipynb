{
 "cells": [
  {
   "cell_type": "markdown",
   "metadata": {},
   "source": [
    "## 1. Import raw dataset"
   ]
  },
  {
   "cell_type": "code",
   "execution_count": 1,
   "metadata": {},
   "outputs": [
    {
     "name": "stderr",
     "output_type": "stream",
     "text": [
      "/anaconda3/lib/python3.6/importlib/_bootstrap.py:219: RuntimeWarning: numpy.dtype size changed, may indicate binary incompatibility. Expected 96, got 88\n",
      "  return f(*args, **kwds)\n",
      "/anaconda3/lib/python3.6/importlib/_bootstrap.py:219: RuntimeWarning: numpy.dtype size changed, may indicate binary incompatibility. Expected 96, got 88\n",
      "  return f(*args, **kwds)\n"
     ]
    }
   ],
   "source": [
    "import pandas as pd\n",
    "import numpy as np\n",
    "import json\n",
    "\n",
    "# import ast\n",
    "# from pandas.io.json import json_normalize"
   ]
  },
  {
   "cell_type": "code",
   "execution_count": 2,
   "metadata": {},
   "outputs": [],
   "source": [
    "# run 'json_to_csv.py' script to convert all json files into csv files of the same name\n",
    "# nested dictionaries is flatterned during the conversion and both parent and nested key, value pairs are extracted\n",
    "\n",
    "%run -i 'json_to_csv.py' 'dataset/business.json'\n",
    "%run -i 'json_to_csv.py' 'dataset/user.json'\n",
    "%run -i 'json_to_csv.py' 'dataset/review.json'\n",
    "%run -i 'json_to_csv.py' 'dataset/tip.json'\n",
    "%run -i 'json_to_csv.py' 'dataset/checkin.json'"
   ]
  },
  {
   "cell_type": "code",
   "execution_count": 3,
   "metadata": {},
   "outputs": [],
   "source": [
    "# import all five csv files as Pandas dataframe\n",
    "\n",
    "business = pd.read_csv('dataset/business.csv')  # contains business data including location data, attributes and categories\n",
    "user = pd.read_csv('dataset/user.csv') # contains users data including the user's friend mapping and all the metadata associated with the user\n",
    "review = pd.read_csv('dataset/review.csv') # contains full review text data including the user_id that wrote the review and the business_id the review is written for\n",
    "tip = pd.read_csv('dataset/tip.csv') # tips written by a user on a business, tips are shorter than reviews and tend to convey quick suggestions\n",
    "checkin = pd.read_csv('dataset/checkin.csv') # checkins on a business"
   ]
  },
  {
   "cell_type": "markdown",
   "metadata": {},
   "source": [
    "## 2. Data cleanup"
   ]
  },
  {
   "cell_type": "markdown",
   "metadata": {},
   "source": [
    "### 2.1 dataframe 'business'"
   ]
  },
  {
   "cell_type": "code",
   "execution_count": 4,
   "metadata": {},
   "outputs": [],
   "source": [
    "# filter to US business only by:\n",
    "# 1. filter by postal_code following the American 5-digit zip code format\n",
    "# 2. filter by state abbreviation\n",
    "\n",
    "ziplen = business.postal_code.astype(str).apply(len) # drop entries where postal_code is not 5-digit from business\n",
    "business = business[ziplen == 5]\n",
    "\n",
    "list_of_states = ['AL','AK','AR','AS','AZ','CA','CO','CT','DC','DE','FL','FM','GA','GU','HI','IA','ID','IL','IN','KS','KY','LA','MA','MD','ME','MH','MI','MN','MO','MS','MT','NC','ND','NE','NH','NJ','NM','NV','NY','MP','OH','OK','OR','PA','PR','PW','RI','SC','SD','TN','TX','UT','VA','VI','VT','WA','WI','WV','WY']\n",
    "business = business[business.state.isin(list_of_states)]"
   ]
  },
  {
   "cell_type": "code",
   "execution_count": 5,
   "metadata": {},
   "outputs": [],
   "source": [
    "# deal with missing city information\n",
    "business.loc[58688,'city'] = 'Yuma' # add missing city info\n",
    "business.loc[111036,'city'] = 'Raleigh' # add missing city info"
   ]
  },
  {
   "cell_type": "code",
   "execution_count": 6,
   "metadata": {},
   "outputs": [
    {
     "name": "stdout",
     "output_type": "stream",
     "text": [
      "1264\n",
      "[('restaurants', 34136), ('shopping', 23148), ('food', 17178), ('home services', 17169), ('beauty & spas', 14604), ('health & medical', 14050), ('local services', 11031), ('automotive', 10843), ('nightlife', 8441), ('event planning & services', 7470)]\n"
     ]
    }
   ],
   "source": [
    "# business category\n",
    "\n",
    "from collections import defaultdict\n",
    "\n",
    "category = defaultdict(int)\n",
    "\n",
    "for idx, row in business.iterrows():\n",
    "    if row['categories'] is not np.nan: \n",
    "        entries = row['categories'].split(',')\n",
    "        for entry in entries: \n",
    "            entry = entry.strip().lower()\n",
    "            category[entry] += 1\n",
    "\n",
    "print(len(category))\n",
    "sorted_cate = sorted(category.items(), key=lambda x: x[1], reverse=True)\n",
    "print(sorted_cate[:10])"
   ]
  },
  {
   "cell_type": "markdown",
   "metadata": {},
   "source": [
    "As shown, the 'business' dataset contains many businesses categories (a total of 1263), many of which are not restaurants. For instances, there are 'shopping', 'health & medical', 'automotive', etc. For this project, the focus is on restaurants, businesses are filtered by their 'categories' and non-restaurant related businesses are removed."
   ]
  },
  {
   "cell_type": "code",
   "execution_count": 7,
   "metadata": {},
   "outputs": [
    {
     "name": "stdout",
     "output_type": "stream",
     "text": [
      "# of businesses of all categories: 138757\n",
      "# of businesses related to restaurants: 47554\n"
     ]
    }
   ],
   "source": [
    "# remove business types other than restaurants\n",
    "\n",
    "def rmv_non_restaurant_busi(df, yes=[], no=[]): \n",
    "    \n",
    "    \"\"\"\n",
    "    remove businesses other than restaurants based on the information provided under business 'categories'\n",
    "    ---\n",
    "    input:\n",
    "    1. df: dataframe to be cleaned up\n",
    "    2. yes: additional list of strings for identifying restaurants\n",
    "    3. no: additional list of strings for identifying non-restaurant busineses\n",
    "    note: 'yes' and 'no' are optional, if provided, an union of the default set and the provided list will be computed and used. \n",
    "    ---\n",
    "    output:\n",
    "    cleaned up dataframe containing only restaurant-based businesses\n",
    "    \"\"\"\n",
    "\n",
    "    yes = set(['fast food','sandwiches','caterers','deserts','burgers']).union(set(yes))\n",
    "    no = set(['shopping','home services','beauty & spas','hair salons','health & medical', 'local services','automotive',\n",
    "              'fitness & instruction','transportation','airlines','pets','active life','professional services','banks & credit unions'\n",
    "             'insurance','financial services','education','public services & government','session photography','car rental',\n",
    "             'photographers','churches','religious organizations','tours','doctors','massage','pharmacy','drugstores']).union(set(no))\n",
    "    \n",
    "    idx_to_drop = []\n",
    "    for idx, row in df.iterrows():\n",
    "        if row['categories'] is not np.nan: \n",
    "            entries = row['categories'].split(',')\n",
    "            for entry in entries:\n",
    "                entry = entry.strip().lower()\n",
    "                if entry in yes: \n",
    "                    break\n",
    "                if entry in no:\n",
    "                    idx_to_drop.append(idx)\n",
    "                    break\n",
    "        elif row['attributes.HairSpecializesIn'] is not np.nan:  # if 'categories' is not available, use 'attributes' to filter\n",
    "            idx_to_drop.append(idx) \n",
    "                    \n",
    "    return df.drop(index=idx_to_drop)\n",
    "\n",
    "print(\"# of businesses of all categories:\", len(business))\n",
    "business = rmv_non_restaurant_busi(business)\n",
    "print(\"# of businesses related to restaurants:\", len(business))"
   ]
  },
  {
   "cell_type": "code",
   "execution_count": 8,
   "metadata": {},
   "outputs": [
    {
     "name": "stdout",
     "output_type": "stream",
     "text": [
      "<class 'pandas.core.frame.DataFrame'>\n",
      "RangeIndex: 47554 entries, 0 to 47553\n",
      "Data columns (total 61 columns):\n",
      "longitude                                47554 non-null float64\n",
      "attributes.BikeParking                   30187 non-null object\n",
      "attributes.AgesAllowed                   251 non-null object\n",
      "attributes.BusinessParking               37191 non-null object\n",
      "hours.Wednesday                          34191 non-null object\n",
      "latitude                                 47553 non-null float64\n",
      "categories                               47138 non-null object\n",
      "hours.Sunday                             29570 non-null object\n",
      "attributes.OutdoorSeating                33107 non-null object\n",
      "attributes.Open24Hours                   288 non-null object\n",
      "attributes.DietaryRestrictions           92 non-null object\n",
      "postal_code                              47554 non-null object\n",
      "attributes.RestaurantsTableService       27011 non-null object\n",
      "hours.Tuesday                            33718 non-null object\n",
      "attributes.WheelchairAccessible          20673 non-null object\n",
      "state                                    47554 non-null object\n",
      "attributes.HasTV                         29188 non-null object\n",
      "attributes.RestaurantsCounterService     391 non-null object\n",
      "attributes.Corkage                       653 non-null object\n",
      "hours.Monday                             31889 non-null object\n",
      "attributes.BusinessAcceptsBitcoin        4039 non-null object\n",
      "attributes.RestaurantsPriceRange2        41151 non-null float64\n",
      "attributes.BusinessAcceptsCreditCards    43116 non-null object\n",
      "attributes.RestaurantsGoodForGroups      32730 non-null object\n",
      "attributes.GoodForMeal                   29367 non-null object\n",
      "attributes.DriveThru                     5116 non-null object\n",
      "attributes                               45721 non-null object\n",
      "attributes.BYOBCorkage                   1400 non-null object\n",
      "hours.Friday                             34510 non-null object\n",
      "attributes.Smoking                       5361 non-null object\n",
      "attributes.DogsAllowed                   5579 non-null object\n",
      "attributes.GoodForKids                   32170 non-null object\n",
      "attributes.Music                         5920 non-null object\n",
      "attributes.WiFi                          29627 non-null object\n",
      "attributes.RestaurantsTakeOut            35739 non-null object\n",
      "business_id                              47554 non-null object\n",
      "attributes.Ambience                      29307 non-null object\n",
      "attributes.AcceptsInsurance              3 non-null object\n",
      "hours                                    34779 non-null object\n",
      "attributes.CoatCheck                     5719 non-null object\n",
      "attributes.BYOB                          908 non-null object\n",
      "city                                     47554 non-null object\n",
      "attributes.NoiseLevel                    26799 non-null object\n",
      "name                                     47554 non-null object\n",
      "address                                  46661 non-null object\n",
      "attributes.HairSpecializesIn             0 non-null object\n",
      "attributes.HappyHour                     6318 non-null object\n",
      "attributes.RestaurantsReservations       31329 non-null object\n",
      "attributes.RestaurantsAttire             29590 non-null object\n",
      "hours.Thursday                           34333 non-null object\n",
      "attributes.ByAppointmentOnly             532 non-null object\n",
      "attributes.Alcohol                       30071 non-null object\n",
      "hours.Saturday                           33672 non-null object\n",
      "review_count                             47554 non-null int64\n",
      "attributes.BestNights                    4766 non-null object\n",
      "stars                                    47554 non-null float64\n",
      "attributes.RestaurantsDelivery           31182 non-null object\n",
      "attributes.Caters                        25428 non-null object\n",
      "attributes.GoodForDancing                6049 non-null object\n",
      "neighborhood                             15832 non-null object\n",
      "is_open                                  47554 non-null int64\n",
      "dtypes: float64(4), int64(2), object(55)\n",
      "memory usage: 22.1+ MB\n",
      "None\n"
     ]
    }
   ],
   "source": [
    "# reset index\n",
    "business.reset_index(drop=True, inplace=True)\n",
    "print(business.info())"
   ]
  },
  {
   "cell_type": "markdown",
   "metadata": {},
   "source": [
    "### Summary of dataframe 'business' after cleaning:\n",
    "note: dataframe 'business' also contains columns resulting from unpacking nested dictionaries under the 'attributes' and 'hours' columns, those 'child' columns feature column names starting with either 'attributes.' or 'hours.'. Below is a quick summary of only the 'parent' columns: <br>\n",
    "\n",
    "1) business_id: no NaN, all business_ids are of the same length of 22 characters, and are case-sensitive. No duplication is found <br>\n",
    "2) name: no NaN<br>\n",
    "\n",
    "(location-related info from 3) to 8)) <br>\n",
    "    3) address: there are 1.9% NaNs, but it's ok since postal_code and coordinates are used mostly instead of address<br>\n",
    "    4) city: no NaN<br>\n",
    "    5) postal_code: no NaN. Postal_codes do not match the American 5-digit format has been removed<br>\n",
    "    6) state: no NaN<br>\n",
    "    7) lattitude and 8) longitude: only 1 entry with missing lattitude. For this entry, postal_code info is available;<br>\n",
    "\n",
    "9) stars: no NaN, all star ratings take values from 1.0, 1.5, 2.0, 2.5, 3.0, 3.5, 4.0, 4.5, 5.0<br>\n",
    "10) review_count: no NaN, review counts range between 3 and 7968<br>\n",
    "11) is_open: no NaN, integer taking values of 0 or 1 for closed (27.3%) or open (72.7%), respectively<br>\n",
    "12) neighborhood: significant NaNs (66.7%), the top 5 neighborhoods are 'Westside','Southeast','Spring Valley','The Strip','downtown'. The neighborhood information will not be used as location information. Instead, it will be treated as one of the business features for NLP analysis<br>\n",
    "13) attributes: contains some NaN (3.9%), all with subfeatures shown under column names featuring 'attributes.'<br>\n",
    "    -most subfeatures are categorical with either True or False binary entries or a few categorical values;<br>\n",
    "    -six subfeatures still contain nested dictionaries, these subfeatures are 'attributes.businessParking','attributes.Ambience','attributes.BestNights','attributes.GoodforMeal','attributes.DietaryRestrictions' and 'attributes.Music';<br>\n",
    "14) categories: has a few NaNs (0.9%), values are strings contains phrases (comma separated) describing categories, such as 'Burgers','Mexican','Bar', etc. can be extracted as restaurant cuisines or other features<br>\n",
    "15) hours: contains NaNs (26.8%), all with subfeatures shown under columns names featuring 'hours.' <br>\n",
    "    -all subfeatures are day of the week from 'Monday' to 'Sunday', with string type values indicating the operating hours<br>"
   ]
  },
  {
   "cell_type": "markdown",
   "metadata": {},
   "source": [
    "### 2.2 dataframe 'user'"
   ]
  },
  {
   "cell_type": "code",
   "execution_count": 9,
   "metadata": {},
   "outputs": [
    {
     "name": "stdout",
     "output_type": "stream",
     "text": [
      "<class 'pandas.core.frame.DataFrame'>\n",
      "RangeIndex: 1518168 entries, 0 to 1518167\n",
      "Data columns (total 22 columns):\n",
      "compliment_funny      1518168 non-null int64\n",
      "user_id               1518168 non-null object\n",
      "compliment_cool       1518168 non-null int64\n",
      "elite                 1518168 non-null object\n",
      "useful                1518168 non-null int64\n",
      "compliment_hot        1518168 non-null int64\n",
      "compliment_more       1518168 non-null int64\n",
      "compliment_profile    1518168 non-null int64\n",
      "name                  1517693 non-null object\n",
      "funny                 1518168 non-null int64\n",
      "cool                  1518168 non-null int64\n",
      "compliment_list       1518168 non-null int64\n",
      "friends               1518168 non-null object\n",
      "yelping_since         1518168 non-null object\n",
      "review_count          1518168 non-null int64\n",
      "compliment_note       1518168 non-null int64\n",
      "fans                  1518168 non-null int64\n",
      "compliment_plain      1518168 non-null int64\n",
      "compliment_writer     1518168 non-null int64\n",
      "compliment_photos     1518168 non-null int64\n",
      "average_stars         1518168 non-null float64\n",
      "compliment_cute       1518168 non-null int64\n",
      "dtypes: float64(1), int64(16), object(5)\n",
      "memory usage: 254.8+ MB\n",
      "None\n"
     ]
    }
   ],
   "source": [
    "# remove the one entry having the average_stars of 0.0, this user only has this one entry and the corresponding review is invalid ('nan')\n",
    "user = user[user.average_stars != 0]\n",
    "user.reset_index(inplace=True, drop=True)\n",
    "\n",
    "print(user.info())"
   ]
  },
  {
   "cell_type": "markdown",
   "metadata": {},
   "source": [
    "### Summary of dataframe 'user' after cleaning:\n",
    "1) user_id: no NaNs, similar to business_id, all user_ids are of the same length of 22 characters, and are case-sensitive. No duplication is found.<br>\n",
    "2) name: a few NaNs (0.03%). For all those, user_ids are available and user_id will be used in most cases.<br>\n",
    "3) elite: no NaNs, a list of the years the user was an elite member. Most users (95.6%) has 'None' as the value under column 'elite', indicating that they have never been an elite member. In general, elite members are very active Yelp users will frequent activities and many insightful reviews/tips.<br>\n",
    "4) yelping_since: no NaNs, string formatted as YYYY-MM-DD indicating the date the user joined Yelp. The dates range between 2004-10-12 and 2018-07-02.<br>\n",
    "5) review_count: no NaNs,integer indicating the number of reviews the user has written, value ranges between 0 and 12723.<br>\n",
    "6) average_stars: no NaNs, takes any float number between 1.00 and 5.00.<br>\n",
    "7) useful: no NaNs, integer indicates the number of useful votes sent by the user. Value ranges between 0 and 258479,with 0 being the most common value.<br>\n",
    "8) funny:  no NaNs, integer indicates the number of useful votes sent by the user. Value ranges between 0 and 242120,with 0 being the most common value.<br>\n",
    "9) cool: no NaNs, integer indicates the number of useful votes sent by the user. Value ranges between 0 and 255909,with 0 being the most common value.<br>\n",
    "10) fans: no NaNs, integer indiates the number of fans the user has. Value ranges between 0 and 8665, with 0 being the most common value. <br>\n",
    "11) compliment_ : all have no NaNs, all integers indicating the number of various types of compliments received by the users.<br>"
   ]
  },
  {
   "cell_type": "markdown",
   "metadata": {},
   "source": [
    "### 2.3 dataframe 'review'"
   ]
  },
  {
   "cell_type": "code",
   "execution_count": 10,
   "metadata": {},
   "outputs": [
    {
     "name": "stdout",
     "output_type": "stream",
     "text": [
      "<class 'pandas.core.frame.DataFrame'>\n",
      "RangeIndex: 5996995 entries, 0 to 5996994\n",
      "Data columns (total 9 columns):\n",
      "text           object\n",
      "funny          int64\n",
      "business_id    object\n",
      "stars          int64\n",
      "cool           int64\n",
      "user_id        object\n",
      "date           object\n",
      "useful         int64\n",
      "review_id      object\n",
      "dtypes: int64(4), object(5)\n",
      "memory usage: 411.8+ MB\n",
      "None\n"
     ]
    }
   ],
   "source": [
    "# convert all values in the 'text' column to string type\n",
    "review['text'] = review.text.astype(str)\n",
    "\n",
    "# remove the one entry with star rating of 0 under 'star' column and no actual review ('nan' under 'text' column)\n",
    "review = review[review.stars != 0]\n",
    "review.reset_index(inplace=True, drop=True)\n",
    "\n",
    "# correct the values under columns 'useful' and 'cool' for review_id 3445401 from -1 to 0, since values should be non-negative\n",
    "review.loc[3445401, ['cool','useful']] = 0\n",
    "\n",
    "# replace the '\\r' in a few review text with '\\n\\n' because having only '\\r' causes problem when writing to and importing from csv files\n",
    "review.loc[3009218,'text']=repr(review.loc[3009218,'text']).replace('\\r','\\n\\n')\n",
    "review.loc[5507254,'text']=repr(review.loc[5507254,'text']).replace('\\r','\\n\\n')\n",
    "\n",
    "print(review.info())"
   ]
  },
  {
   "cell_type": "markdown",
   "metadata": {},
   "source": [
    "### Summary of dataframe 'review' after cleaning:\n",
    "1) review_id: no NaNs, similar to user_id and business_id, all review_ids are of the same length of 22 characters, and are case-sensitive. No duplication is found. <br>\n",
    "2) user_id: no NaNs, all of the same length of 22 characters, case-sensitive. A total of 1518169 unique user_ids are included in the dataframe 'review', consistent with the total number of user_ids in the 'user' dataframe.<br>\n",
    "3) business_id: no NaNs, all of the same length of 22 characters, case-sensitive. A total of 188593 unique business_ids are included in the dataframe 'review', more than the total number of business_ids in the 'business' dataframe.<br>\n",
    "4) stars: no NaNs, integer indicating the star rating, takes discrete values of 1, 2, 3, 4 and 5<br>\n",
    "5) text: no NaNs and no empty entries, strings of the actual reviews, with length ranging from 1 to 5000.<br>\n",
    "5) date: no NaNs, string of length 10 formatted as YYYY-MM-DD, dates ranges from 2004-10-12 to 2018-07-02.<br>\n",
    "6) useful: no NaNs, integer, the number of useful votes the review received, values range from 0 to 1234.<br>\n",
    "7) funny: no NaNs, integer, the number of useful votes the review received, values range from 0 to 505.<br>\n",
    "8) cool: no NaNs, integer, the number of useful votes the review received, values range from 0 to 991.<br>"
   ]
  },
  {
   "cell_type": "markdown",
   "metadata": {},
   "source": [
    "### 2.4 dataframe 'tip'"
   ]
  },
  {
   "cell_type": "code",
   "execution_count": 11,
   "metadata": {},
   "outputs": [
    {
     "name": "stdout",
     "output_type": "stream",
     "text": [
      "<class 'pandas.core.frame.DataFrame'>\n",
      "RangeIndex: 1185344 entries, 0 to 1185343\n",
      "Data columns (total 5 columns):\n",
      "likes          1185344 non-null int64\n",
      "text           1185344 non-null object\n",
      "business_id    1185344 non-null object\n",
      "date           1185344 non-null object\n",
      "user_id        1185344 non-null object\n",
      "dtypes: int64(1), object(4)\n",
      "memory usage: 45.2+ MB\n",
      "None\n"
     ]
    }
   ],
   "source": [
    "# drop entries with 'NaN' under 'text' column\n",
    "tip = tip[tip.text.notnull()]\n",
    "tip.reset_index(inplace=True, drop=True)\n",
    "\n",
    "print(tip.info())"
   ]
  },
  {
   "cell_type": "markdown",
   "metadata": {},
   "source": [
    "### Summary of dataframe 'tip' after cleaning:\n",
    "1) user_id: no NaNs, all of the same length of 22 characters, case-sensitive. A total of 304869 unique user_ids are included in the dataframe 'tip', less than the total number of user_ids in the 'user' dataframe.<br>\n",
    "2) business_id: no NaNs, all of the same length of 22 characters, case-sensitive. A total of 121526 unique business_ids are included in the dataframe 'tip', less than the total number of business_ids in the 'business' dataframe.<br>\n",
    "3) text: no NaNs and no empty entries, strings of the actual tips, with length ranging from 1 to 500.<br>\n",
    "4) date: no NaNs, string of length 10 formatted as YYYY-MM-DD, dates ranges from 2009-04-15 to 2018-07-02.<br>\n",
    "5) likes: no NaNs, integer indicating the number of likes the tip received, value ranges from 0 to 15.<br>"
   ]
  },
  {
   "cell_type": "markdown",
   "metadata": {},
   "source": [
    "### 2.5 dataframe 'checkin'"
   ]
  },
  {
   "cell_type": "code",
   "execution_count": 12,
   "metadata": {},
   "outputs": [
    {
     "name": "stdout",
     "output_type": "stream",
     "text": [
      "Index(['business_id', 'time', 'time.Fri-0', 'time.Fri-1', 'time.Fri-10',\n",
      "       'time.Fri-11', 'time.Fri-12', 'time.Fri-13', 'time.Fri-14',\n",
      "       'time.Fri-15',\n",
      "       ...\n",
      "       'time.Wed-21', 'time.Wed-22', 'time.Wed-23', 'time.Wed-3', 'time.Wed-4',\n",
      "       'time.Wed-5', 'time.Wed-6', 'time.Wed-7', 'time.Wed-8', 'time.Wed-9'],\n",
      "      dtype='object', length=170)\n",
      "<class 'pandas.core.frame.DataFrame'>\n",
      "RangeIndex: 157075 entries, 0 to 157074\n",
      "Columns: 171 entries, business_id to total_count\n",
      "dtypes: float64(168), int64(1), object(2)\n",
      "memory usage: 204.9+ MB\n",
      "None\n"
     ]
    }
   ],
   "source": [
    "# sort the columns by column names\n",
    "ordered_names = sorted(checkin.columns)\n",
    "checkin = checkin[ordered_names]\n",
    "print(checkin.columns)\n",
    "\n",
    "# add a new column named 'total_count' containing the sum of all checkins at all times (sum of all values under the nested columns with names starting with 'time.')\n",
    "checkin['total_count'] = checkin.loc[:,'time.Fri-0':'time.Wed-9'].sum(axis=1).astype(int)\n",
    "\n",
    "print(checkin.info())"
   ]
  },
  {
   "cell_type": "markdown",
   "metadata": {},
   "source": [
    "### Summary of dataframe 'checkin' after cleaning:\n",
    "note: dataframe 'checkin' also contains columns resulting from unpacking nested dictionaries under column 'time', those nested columns feature column names starting with 'time.'. Below is a quick summary of only the parent columns, 'business_id' and 'time'. In addition, a column 'total_count' containing the sum of all checkins at all times is computed and added.\n",
    "\n",
    "1) business_id: no NaNs, all business_ids are of the same length of 22 characters, and are case-sensitive. No duplication is found.<br>\n",
    "2) time: no NaNs, parent columns with nested dictionaries containing checkin counts (value) under all times (key).<br>\n",
    "3) total_count: no NaNs, integer indicating the sum of all checkins at all times for the business_id, values range from 1 to 138477.<br> "
   ]
  },
  {
   "cell_type": "markdown",
   "metadata": {},
   "source": [
    "## 3. Output cleaned dataframes to csv files"
   ]
  },
  {
   "cell_type": "code",
   "execution_count": 13,
   "metadata": {},
   "outputs": [],
   "source": [
    "business.to_csv(path_or_buf='business_clean.csv',index=False)\n",
    "user.to_csv(path_or_buf='user_clean.csv',index=False)\n",
    "review.to_csv(path_or_buf='review_clean.csv',index=False)\n",
    "tip.to_csv(path_or_buf='tip_clean.csv',index=False)\n",
    "checkin.to_csv(path_or_buf='checkin_clean.csv',index=False)"
   ]
  },
  {
   "cell_type": "code",
   "execution_count": null,
   "metadata": {},
   "outputs": [],
   "source": []
  }
 ],
 "metadata": {
  "kernelspec": {
   "display_name": "Python 3",
   "language": "python",
   "name": "python3"
  },
  "language_info": {
   "codemirror_mode": {
    "name": "ipython",
    "version": 3
   },
   "file_extension": ".py",
   "mimetype": "text/x-python",
   "name": "python",
   "nbconvert_exporter": "python",
   "pygments_lexer": "ipython3",
   "version": "3.6.5"
  }
 },
 "nbformat": 4,
 "nbformat_minor": 2
}
