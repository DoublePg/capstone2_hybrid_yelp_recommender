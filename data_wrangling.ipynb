{
 "cells": [
  {
   "cell_type": "markdown",
   "metadata": {},
   "source": [
    "### import raw dataset"
   ]
  },
  {
   "cell_type": "code",
   "execution_count": 10,
   "metadata": {},
   "outputs": [],
   "source": [
    "import pandas as pd\n",
    "import numpy as np\n",
    "import json\n",
    "import matplotlib.pyplot as plt\n",
    "import seaborn as sns\n",
    "\n",
    "# import ast\n",
    "# from pandas.io.json import json_normalize"
   ]
  },
  {
   "cell_type": "code",
   "execution_count": 41,
   "metadata": {},
   "outputs": [],
   "source": [
    "# # read in the json file as a single string, then parse it into a list with each entry in the list representing one business\n",
    "# # the entries in the resulting list are strings which can be parsed into dictionaries using json.loads()\n",
    "\n",
    "# path = 'dataset/business.json'\n",
    "\n",
    "# with open(path) as f:\n",
    "#     entries = f.read().split('}\\n{')\n",
    "    \n",
    "# for idx, entry in enumerate(entries):\n",
    "#     if idx == 0:\n",
    "#         entries[idx] = entries[idx] + '}'\n",
    "#     elif idx == len(entries)-1:\n",
    "#         entries[idx] = '{' + entries[idx]\n",
    "#     else:\n",
    "#         entries[idx] = '{' + entries[idx] + '}'\n",
    "\n",
    "# print(len(entries))"
   ]
  },
  {
   "cell_type": "code",
   "execution_count": 40,
   "metadata": {},
   "outputs": [],
   "source": [
    "# # parse each entry for one business as dictionary, flatten nested dictionaries and return as a dataframe, then combine entries of all businesses into one dataframe\n",
    "\n",
    "# dfs=[]\n",
    "# for idx, entry in enumerate(entries):\n",
    "#     # parse string as dictionary\n",
    "#     d = json.loads(entry) \n",
    "#     # normalize/flatten nested dictionary and return as a dataframe\n",
    "#     df = json_normalize(d)  # nested records will generate names separated by '.'\n",
    "#     dfs.append(df)\n",
    "# business = pd.concat(dfs, axis=0)\n",
    "# business.columns\n",
    "\n",
    "# # to simplify the code using list comprehension\n",
    "# business = pd.concat([json_normalize(json.loads(entry)) for entry in entries], axis=0)\n",
    "# print(business.info())\n",
    "# business.columns"
   ]
  },
  {
   "cell_type": "code",
   "execution_count": 52,
   "metadata": {},
   "outputs": [],
   "source": [
    "# # parse each entry for one business as dictionary, keeping nested dictionaries as simple strings and combine entries of all businesses into one dataframe\n",
    "# %time\n",
    "# %mprun\n",
    "\n",
    "# df = pd.DataFrame(index=np.arange(len(entries)), columns = ['business_id','name','neighborhood','address','city','state','postal_code','latitude','longitude',\n",
    "#                              'stars','review_count','is_open','attributes','categories','hours'])\n",
    "\n",
    "# for idx, entry in enumerate(entries):\n",
    "#     # parse string as dictionary\n",
    "#     d = json.loads(entry)\n",
    "#     for k, v in d.items():\n",
    "#         df.loc[idx, k] = str(v)"
   ]
  },
  {
   "cell_type": "code",
   "execution_count": 58,
   "metadata": {},
   "outputs": [],
   "source": [
    "# run 'json_to_csv.py' script to convert all json files into csv files of the same name\n",
    "# nested dictionaries is flatterned during the conversion\n",
    "\n",
    "%run -i 'json_to_csv.py' 'dataset/business.json'\n",
    "%run -i 'json_to_csv.py' 'dataset/user.json'\n",
    "%run -i 'json_to_csv.py' 'dataset/review.json'\n",
    "%run -i 'json_to_csv.py' 'dataset/tip.json'\n",
    "%run -i 'json_to_csv.py' 'dataset/checkin.json'"
   ]
  },
  {
   "cell_type": "code",
   "execution_count": 88,
   "metadata": {},
   "outputs": [],
   "source": [
    "# import all five csv files as Pandas dataframe\n",
    "\n",
    "buz = pd.read_csv('dataset/business.csv')  # contains business data including location data, attributes and categories\n",
    "user = pd.read_csv('dataset/user.csv') # contains users data including the user's friend mapping and all the metadata associated with the user\n",
    "review = pd.read_csv('dataset/review.csv') # contains full review text data including the user_id that wrote the review and the business_id the review is written for\n",
    "tip = pd.read_csv('dataset/tip.csv') # checkins on a business\n",
    "checkin = pd.read_csv('dataset/checkin.csv') # tips written by a user on a business, tips are shorter than reviews and tend to convey quick suggestions"
   ]
  },
  {
   "cell_type": "code",
   "execution_count": 89,
   "metadata": {},
   "outputs": [],
   "source": [
    "# for buz and checkin where nested dictionaries are flatterned during conversion, extract a simplified version keeping the nested dictionaries without flatterning\n",
    "\n",
    "# simplified version of buz\n",
    "buz_s = buz[['business_id','name','neighborhood','address','city','state','postal_code','latitude','longitude','stars','review_count','is_open','attributes','categories','hours']]\n",
    "# simplified version of checkin\n",
    "checkin_s = checkin[['business_id','time']]"
   ]
  },
  {
   "cell_type": "code",
   "execution_count": 90,
   "metadata": {},
   "outputs": [
    {
     "name": "stdout",
     "output_type": "stream",
     "text": [
      "<class 'pandas.core.frame.DataFrame'>\n",
      "RangeIndex: 188593 entries, 0 to 188592\n",
      "Data columns (total 61 columns):\n",
      "address                                  180970 non-null object\n",
      "hours.Tuesday                            140607 non-null object\n",
      "attributes.Caters                        40038 non-null object\n",
      "attributes.BusinessParking               103424 non-null object\n",
      "attributes.RestaurantsPriceRange2        107120 non-null float64\n",
      "attributes.RestaurantsTableService       43325 non-null object\n",
      "attributes.RestaurantsAttire             48182 non-null object\n",
      "attributes.Ambience                      47577 non-null object\n",
      "attributes.ByAppointmentOnly             45423 non-null object\n",
      "attributes.BYOB                          911 non-null object\n",
      "attributes.HasTV                         47533 non-null object\n",
      "categories                               188052 non-null object\n",
      "attributes.BestNights                    6844 non-null object\n",
      "attributes.NoiseLevel                    43710 non-null object\n",
      "attributes.GoodForDancing                9162 non-null object\n",
      "review_count                             188593 non-null int64\n",
      "business_id                              188593 non-null object\n",
      "attributes.BikeParking                   84891 non-null object\n",
      "hours.Sunday                             93387 non-null object\n",
      "attributes.BusinessAcceptsCreditCards    140391 non-null object\n",
      "attributes.Corkage                       657 non-null object\n",
      "hours.Saturday                           125376 non-null object\n",
      "attributes.OutdoorSeating                54181 non-null object\n",
      "longitude                                188587 non-null float64\n",
      "attributes.HairSpecializesIn             1881 non-null object\n",
      "attributes.Smoking                       8113 non-null object\n",
      "attributes.AcceptsInsurance              11671 non-null object\n",
      "attributes.RestaurantsReservations       51363 non-null object\n",
      "hours                                    143791 non-null object\n",
      "attributes.WheelchairAccessible          52023 non-null object\n",
      "hours.Friday                             141796 non-null object\n",
      "state                                    188593 non-null object\n",
      "attributes.HappyHour                     9285 non-null object\n",
      "hours.Wednesday                          141843 non-null object\n",
      "attributes.WiFi                          49026 non-null object\n",
      "attributes.AgesAllowed                   397 non-null object\n",
      "attributes.Alcohol                       47892 non-null object\n",
      "attributes.GoodForMeal                   47483 non-null object\n",
      "postal_code                              187912 non-null object\n",
      "is_open                                  188593 non-null int64\n",
      "neighborhood                             68655 non-null object\n",
      "hours.Monday                             132761 non-null object\n",
      "attributes.GoodForKids                   64931 non-null object\n",
      "attributes.DriveThru                     6754 non-null object\n",
      "attributes.BYOBCorkage                   1409 non-null object\n",
      "attributes.DietaryRestrictions           138 non-null object\n",
      "attributes.Music                         8807 non-null object\n",
      "latitude                                 188587 non-null float64\n",
      "attributes.CoatCheck                     8531 non-null object\n",
      "attributes.Open24Hours                   352 non-null object\n",
      "attributes.BusinessAcceptsBitcoin        12674 non-null object\n",
      "stars                                    188593 non-null float64\n",
      "attributes.DogsAllowed                   13681 non-null object\n",
      "attributes.RestaurantsGoodForGroups      53839 non-null object\n",
      "attributes                               162807 non-null object\n",
      "attributes.RestaurantsDelivery           51668 non-null object\n",
      "attributes.RestaurantsCounterService     397 non-null object\n",
      "name                                     188593 non-null object\n",
      "attributes.RestaurantsTakeOut            61206 non-null object\n",
      "city                                     188583 non-null object\n",
      "hours.Thursday                           142359 non-null object\n",
      "dtypes: float64(4), int64(2), object(55)\n",
      "memory usage: 87.8+ MB\n",
      "None\n",
      "<class 'pandas.core.frame.DataFrame'>\n",
      "RangeIndex: 188593 entries, 0 to 188592\n",
      "Data columns (total 15 columns):\n",
      "business_id     188593 non-null object\n",
      "name            188593 non-null object\n",
      "neighborhood    68655 non-null object\n",
      "address         180970 non-null object\n",
      "city            188583 non-null object\n",
      "state           188593 non-null object\n",
      "postal_code     187912 non-null object\n",
      "latitude        188587 non-null float64\n",
      "longitude       188587 non-null float64\n",
      "stars           188593 non-null float64\n",
      "review_count    188593 non-null int64\n",
      "is_open         188593 non-null int64\n",
      "attributes      162807 non-null object\n",
      "categories      188052 non-null object\n",
      "hours           143791 non-null object\n",
      "dtypes: float64(3), int64(2), object(10)\n",
      "memory usage: 21.6+ MB\n",
      "None\n"
     ]
    }
   ],
   "source": [
    "# compare buz with buz_s\n",
    "print(buz.info())\n",
    "print(buz_s.info())"
   ]
  },
  {
   "cell_type": "code",
   "execution_count": 91,
   "metadata": {},
   "outputs": [
    {
     "name": "stdout",
     "output_type": "stream",
     "text": [
      "<class 'pandas.core.frame.DataFrame'>\n",
      "RangeIndex: 157075 entries, 0 to 157074\n",
      "Columns: 170 entries, time.Wed-4 to time.Wed-11\n",
      "dtypes: float64(168), object(2)\n",
      "memory usage: 203.7+ MB\n",
      "None\n",
      "   time.Wed-4  time.Sat-0  time.Fri-17  time.Sat-19  time.Fri-16  time.Mon-15  \\\n",
      "0         2.0         1.0          1.0          NaN          1.0          1.0   \n",
      "\n",
      "   time.Sun-0  time.Mon-19  time.Sat-13  time.Mon-14     ...       time.Thu-3  \\\n",
      "0         1.0          1.0          3.0          1.0     ...              NaN   \n",
      "\n",
      "   time.Thu-17  time.Sun-1  time.Mon-4  time.Fri-13 time.Mon-6  time.Wed-18  \\\n",
      "0          NaN         NaN         1.0          NaN        NaN          1.0   \n",
      "\n",
      "   time.Wed-5  time.Tue-21  time.Wed-11  \n",
      "0         NaN          1.0          2.0  \n",
      "\n",
      "[1 rows x 170 columns]\n",
      "<class 'pandas.core.frame.DataFrame'>\n",
      "RangeIndex: 157075 entries, 0 to 157074\n",
      "Data columns (total 2 columns):\n",
      "business_id    157075 non-null object\n",
      "time           157075 non-null object\n",
      "dtypes: object(2)\n",
      "memory usage: 2.4+ MB\n",
      "None\n"
     ]
    }
   ],
   "source": [
    "# compare checkin with checkin_s\n",
    "print(checkin.info())\n",
    "print(checkin.head(1))\n",
    "print(checkin_s.info())"
   ]
  },
  {
   "cell_type": "code",
   "execution_count": 92,
   "metadata": {},
   "outputs": [
    {
     "name": "stdout",
     "output_type": "stream",
     "text": [
      "<class 'pandas.core.frame.DataFrame'>\n",
      "RangeIndex: 1518169 entries, 0 to 1518168\n",
      "Data columns (total 22 columns):\n",
      "compliment_cool       1518169 non-null int64\n",
      "elite                 1518169 non-null object\n",
      "useful                1518169 non-null int64\n",
      "user_id               1518169 non-null object\n",
      "compliment_writer     1518169 non-null int64\n",
      "review_count          1518169 non-null int64\n",
      "funny                 1518169 non-null int64\n",
      "compliment_list       1518169 non-null int64\n",
      "compliment_profile    1518169 non-null int64\n",
      "compliment_note       1518169 non-null int64\n",
      "yelping_since         1518169 non-null object\n",
      "friends               1518169 non-null object\n",
      "compliment_hot        1518169 non-null int64\n",
      "cool                  1518169 non-null int64\n",
      "fans                  1518169 non-null int64\n",
      "compliment_photos     1518169 non-null int64\n",
      "name                  1517693 non-null object\n",
      "compliment_more       1518169 non-null int64\n",
      "compliment_plain      1518169 non-null int64\n",
      "compliment_funny      1518169 non-null int64\n",
      "compliment_cute       1518169 non-null int64\n",
      "average_stars         1518169 non-null float64\n",
      "dtypes: float64(1), int64(16), object(5)\n",
      "memory usage: 254.8+ MB\n",
      "None\n",
      "<class 'pandas.core.frame.DataFrame'>\n",
      "RangeIndex: 5996996 entries, 0 to 5996995\n",
      "Data columns (total 9 columns):\n",
      "user_id        object\n",
      "text           object\n",
      "useful         int64\n",
      "business_id    object\n",
      "date           object\n",
      "cool           int64\n",
      "review_id      object\n",
      "funny          int64\n",
      "stars          int64\n",
      "dtypes: int64(4), object(5)\n",
      "memory usage: 411.8+ MB\n",
      "None\n",
      "<class 'pandas.core.frame.DataFrame'>\n",
      "RangeIndex: 1185348 entries, 0 to 1185347\n",
      "Data columns (total 5 columns):\n",
      "user_id        1185348 non-null object\n",
      "likes          1185348 non-null int64\n",
      "business_id    1185348 non-null object\n",
      "date           1185348 non-null object\n",
      "text           1185344 non-null object\n",
      "dtypes: int64(1), object(4)\n",
      "memory usage: 45.2+ MB\n",
      "None\n"
     ]
    }
   ],
   "source": [
    "print(user.info())\n",
    "print(review.info())\n",
    "print(tip.info())"
   ]
  },
  {
   "cell_type": "code",
   "execution_count": null,
   "metadata": {},
   "outputs": [],
   "source": []
  },
  {
   "cell_type": "code",
   "execution_count": null,
   "metadata": {},
   "outputs": [],
   "source": []
  },
  {
   "cell_type": "code",
   "execution_count": null,
   "metadata": {},
   "outputs": [],
   "source": []
  },
  {
   "cell_type": "code",
   "execution_count": null,
   "metadata": {},
   "outputs": [],
   "source": []
  },
  {
   "cell_type": "code",
   "execution_count": null,
   "metadata": {},
   "outputs": [],
   "source": []
  }
 ],
 "metadata": {
  "kernelspec": {
   "display_name": "Python 3",
   "language": "python",
   "name": "python3"
  },
  "language_info": {
   "codemirror_mode": {
    "name": "ipython",
    "version": 3
   },
   "file_extension": ".py",
   "mimetype": "text/x-python",
   "name": "python",
   "nbconvert_exporter": "python",
   "pygments_lexer": "ipython3",
   "version": "3.6.5"
  }
 },
 "nbformat": 4,
 "nbformat_minor": 2
}
