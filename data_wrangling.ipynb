{
 "cells": [
  {
   "cell_type": "markdown",
   "metadata": {},
   "source": [
    "### import raw dataset"
   ]
  },
  {
   "cell_type": "code",
   "execution_count": 10,
   "metadata": {},
   "outputs": [],
   "source": [
    "import pandas as pd\n",
    "import numpy as np\n",
    "\n",
    "import ast\n",
    "import json\n",
    "from pandas.io.json import json_normalize"
   ]
  },
  {
   "cell_type": "code",
   "execution_count": 41,
   "metadata": {},
   "outputs": [],
   "source": [
    "# # read in the json file as a single string, then parse it into a list with each entry in the list representing one business\n",
    "# # the entries in the resulting list are strings which can be parsed into dictionaries using json.loads()\n",
    "\n",
    "# path = 'dataset/business.json'\n",
    "\n",
    "# with open(path) as f:\n",
    "#     entries = f.read().split('}\\n{')\n",
    "    \n",
    "# for idx, entry in enumerate(entries):\n",
    "#     if idx == 0:\n",
    "#         entries[idx] = entries[idx] + '}'\n",
    "#     elif idx == len(entries)-1:\n",
    "#         entries[idx] = '{' + entries[idx]\n",
    "#     else:\n",
    "#         entries[idx] = '{' + entries[idx] + '}'\n",
    "\n",
    "# print(len(entries))"
   ]
  },
  {
   "cell_type": "code",
   "execution_count": 40,
   "metadata": {},
   "outputs": [],
   "source": [
    "# # parse each entry for one business as dictionary, flatten nested dictionaries and return as a dataframe, then combine entries of all businesses into one dataframe\n",
    "\n",
    "# dfs=[]\n",
    "# for idx, entry in enumerate(entries):\n",
    "#     # parse string as dictionary\n",
    "#     d = json.loads(entry) \n",
    "#     # normalize/flatten nested dictionary and return as a dataframe\n",
    "#     df = json_normalize(d)  # nested records will generate names separated by '.'\n",
    "#     dfs.append(df)\n",
    "# business = pd.concat(dfs, axis=0)\n",
    "# business.columns\n",
    "\n",
    "# # to simplify the code using list comprehension\n",
    "# business = pd.concat([json_normalize(json.loads(entry)) for entry in entries], axis=0)\n",
    "# print(business.info())\n",
    "# business.columns"
   ]
  },
  {
   "cell_type": "code",
   "execution_count": 52,
   "metadata": {},
   "outputs": [],
   "source": [
    "# # parse each entry for one business as dictionary, keeping nested dictionaries as simple strings and combine entries of all businesses into one dataframe\n",
    "# %time\n",
    "# %mprun\n",
    "\n",
    "# df = pd.DataFrame(index=np.arange(len(entries)), columns = ['business_id','name','neighborhood','address','city','state','postal_code','latitude','longitude',\n",
    "#                              'stars','review_count','is_open','attributes','categories','hours'])\n",
    "\n",
    "# for idx, entry in enumerate(entries):\n",
    "#     # parse string as dictionary\n",
    "#     d = json.loads(entry)\n",
    "#     for k, v in d.items():\n",
    "#         df.loc[idx, k] = str(v)"
   ]
  },
  {
   "cell_type": "code",
   "execution_count": 46,
   "metadata": {},
   "outputs": [],
   "source": [
    "%run -i 'json_to_csv_1.py' 'dataset/business.json'"
   ]
  },
  {
   "cell_type": "code",
   "execution_count": 47,
   "metadata": {},
   "outputs": [
    {
     "name": "stdout",
     "output_type": "stream",
     "text": [
      "<class 'pandas.core.frame.DataFrame'>\n",
      "RangeIndex: 188593 entries, 0 to 188592\n",
      "Data columns (total 15 columns):\n",
      "review_count    188593 non-null int64\n",
      "address         180970 non-null object\n",
      "business_id     188593 non-null object\n",
      "state           188593 non-null object\n",
      "latitude        188587 non-null float64\n",
      "longitude       188587 non-null float64\n",
      "stars           188593 non-null float64\n",
      "postal_code     187912 non-null object\n",
      "is_open         188593 non-null int64\n",
      "attributes      162807 non-null object\n",
      "name            188593 non-null object\n",
      "neighborhood    68655 non-null object\n",
      "city            188583 non-null object\n",
      "categories      188052 non-null object\n",
      "hours           143791 non-null object\n",
      "dtypes: float64(3), int64(2), object(10)\n",
      "memory usage: 21.6+ MB\n",
      "None\n",
      "   review_count            address             business_id state   latitude  \\\n",
      "0            24  1314 44 Avenue NE  Apn5Q_b6Nz61Tq4XzPdf9A    AB  51.091813   \n",
      "1             3                NaN  AjEbIBw6ZFfln7ePHha9PA    NV  35.960734   \n",
      "\n",
      "    longitude  stars postal_code  is_open  \\\n",
      "0 -114.031675    4.0     T2E 6L6        1   \n",
      "1 -114.939821    4.5       89002        0   \n",
      "\n",
      "                                          attributes                  name  \\\n",
      "0  {'BikeParking': 'False', 'BusinessAcceptsCredi...  Minhas Micro Brewery   \n",
      "1  {'Alcohol': 'none', 'BikeParking': 'False', 'B...   CK'S BBQ & Catering   \n",
      "\n",
      "  neighborhood       city                                         categories  \\\n",
      "0          NaN    Calgary  Tours, Breweries, Pizza, Restaurants, Food, Ho...   \n",
      "1          NaN  Henderson  Chicken Wings, Burgers, Caterers, Street Vendo...   \n",
      "\n",
      "                                               hours  \n",
      "0  {'Monday': '8:30-17:0', 'Tuesday': '11:0-21:0'...  \n",
      "1  {'Friday': '17:0-23:0', 'Saturday': '17:0-23:0...  \n"
     ]
    }
   ],
   "source": [
    "buz_1 = pd.read_csv('dataset/business.csv')\n",
    "print(buz_1.info())\n",
    "print(buz_1.head(2))"
   ]
  },
  {
   "cell_type": "code",
   "execution_count": 48,
   "metadata": {},
   "outputs": [],
   "source": [
    "%run -i 'json_to_csv_2.py' 'dataset/business.json'"
   ]
  },
  {
   "cell_type": "code",
   "execution_count": 50,
   "metadata": {},
   "outputs": [
    {
     "name": "stdout",
     "output_type": "stream",
     "text": [
      "<class 'pandas.core.frame.DataFrame'>\n",
      "RangeIndex: 188593 entries, 0 to 188592\n",
      "Data columns (total 61 columns):\n",
      "address                                  180970 non-null object\n",
      "hours.Tuesday                            140607 non-null object\n",
      "attributes.Caters                        40038 non-null object\n",
      "attributes.BusinessParking               103424 non-null object\n",
      "attributes.RestaurantsPriceRange2        107120 non-null float64\n",
      "attributes.RestaurantsTableService       43325 non-null object\n",
      "attributes.RestaurantsAttire             48182 non-null object\n",
      "attributes.Ambience                      47577 non-null object\n",
      "attributes.ByAppointmentOnly             45423 non-null object\n",
      "attributes.BYOB                          911 non-null object\n",
      "attributes.HasTV                         47533 non-null object\n",
      "categories                               188052 non-null object\n",
      "attributes.BestNights                    6844 non-null object\n",
      "attributes.NoiseLevel                    43710 non-null object\n",
      "attributes.GoodForDancing                9162 non-null object\n",
      "review_count                             188593 non-null int64\n",
      "business_id                              188593 non-null object\n",
      "attributes.BikeParking                   84891 non-null object\n",
      "hours.Sunday                             93387 non-null object\n",
      "attributes.BusinessAcceptsCreditCards    140391 non-null object\n",
      "attributes.Corkage                       657 non-null object\n",
      "hours.Saturday                           125376 non-null object\n",
      "attributes.OutdoorSeating                54181 non-null object\n",
      "longitude                                188587 non-null float64\n",
      "attributes.HairSpecializesIn             1881 non-null object\n",
      "attributes.Smoking                       8113 non-null object\n",
      "attributes.AcceptsInsurance              11671 non-null object\n",
      "attributes.RestaurantsReservations       51363 non-null object\n",
      "hours                                    143791 non-null object\n",
      "attributes.WheelchairAccessible          52023 non-null object\n",
      "hours.Friday                             141796 non-null object\n",
      "state                                    188593 non-null object\n",
      "attributes.HappyHour                     9285 non-null object\n",
      "hours.Wednesday                          141843 non-null object\n",
      "attributes.WiFi                          49026 non-null object\n",
      "attributes.AgesAllowed                   397 non-null object\n",
      "attributes.Alcohol                       47892 non-null object\n",
      "attributes.GoodForMeal                   47483 non-null object\n",
      "postal_code                              187912 non-null object\n",
      "is_open                                  188593 non-null int64\n",
      "neighborhood                             68655 non-null object\n",
      "hours.Monday                             132761 non-null object\n",
      "attributes.GoodForKids                   64931 non-null object\n",
      "attributes.DriveThru                     6754 non-null object\n",
      "attributes.BYOBCorkage                   1409 non-null object\n",
      "attributes.DietaryRestrictions           138 non-null object\n",
      "attributes.Music                         8807 non-null object\n",
      "latitude                                 188587 non-null float64\n",
      "attributes.CoatCheck                     8531 non-null object\n",
      "attributes.Open24Hours                   352 non-null object\n",
      "attributes.BusinessAcceptsBitcoin        12674 non-null object\n",
      "stars                                    188593 non-null float64\n",
      "attributes.DogsAllowed                   13681 non-null object\n",
      "attributes.RestaurantsGoodForGroups      53839 non-null object\n",
      "attributes                               162807 non-null object\n",
      "attributes.RestaurantsDelivery           51668 non-null object\n",
      "attributes.RestaurantsCounterService     397 non-null object\n",
      "name                                     188593 non-null object\n",
      "attributes.RestaurantsTakeOut            61206 non-null object\n",
      "city                                     188583 non-null object\n",
      "hours.Thursday                           142359 non-null object\n",
      "dtypes: float64(4), int64(2), object(55)\n",
      "memory usage: 87.8+ MB\n",
      "None\n",
      "             address hours.Tuesday attributes.Caters  \\\n",
      "0  1314 44 Avenue NE     11:0-21:0               NaN   \n",
      "\n",
      "                          attributes.BusinessParking  \\\n",
      "0  {'garage': False, 'street': True, 'validated':...   \n",
      "\n",
      "   attributes.RestaurantsPriceRange2 attributes.RestaurantsTableService  \\\n",
      "0                                2.0                                NaN   \n",
      "\n",
      "  attributes.RestaurantsAttire attributes.Ambience  \\\n",
      "0                       casual                 NaN   \n",
      "\n",
      "  attributes.ByAppointmentOnly attributes.BYOB      ...       stars  \\\n",
      "0                          NaN             NaN      ...         4.0   \n",
      "\n",
      "  attributes.DogsAllowed attributes.RestaurantsGoodForGroups  \\\n",
      "0                    NaN                                True   \n",
      "\n",
      "                                          attributes  \\\n",
      "0  {'BikeParking': 'False', 'BusinessAcceptsCredi...   \n",
      "\n",
      "  attributes.RestaurantsDelivery  attributes.RestaurantsCounterService  \\\n",
      "0                          False                                   NaN   \n",
      "\n",
      "                   name attributes.RestaurantsTakeOut     city hours.Thursday  \n",
      "0  Minhas Micro Brewery                          True  Calgary      11:0-21:0  \n",
      "\n",
      "[1 rows x 61 columns]\n"
     ]
    }
   ],
   "source": [
    "buz_2 = pd.read_csv('dataset/business.csv')\n",
    "print(buz_2.info())\n",
    "print(buz_2.head(1))"
   ]
  },
  {
   "cell_type": "code",
   "execution_count": 44,
   "metadata": {},
   "outputs": [],
   "source": [
    "user = pd.read_csv('dataset/user.csv')"
   ]
  },
  {
   "cell_type": "code",
   "execution_count": 45,
   "metadata": {},
   "outputs": [
    {
     "name": "stdout",
     "output_type": "stream",
     "text": [
      "<class 'pandas.core.frame.DataFrame'>\n",
      "RangeIndex: 1518169 entries, 0 to 1518168\n",
      "Data columns (total 22 columns):\n",
      "compliment_cool       1518169 non-null int64\n",
      "elite                 1518169 non-null object\n",
      "useful                1518169 non-null int64\n",
      "user_id               1518169 non-null object\n",
      "compliment_writer     1518169 non-null int64\n",
      "review_count          1518169 non-null int64\n",
      "funny                 1518169 non-null int64\n",
      "compliment_list       1518169 non-null int64\n",
      "compliment_profile    1518169 non-null int64\n",
      "compliment_note       1518169 non-null int64\n",
      "yelping_since         1518169 non-null object\n",
      "friends               1518169 non-null object\n",
      "compliment_hot        1518169 non-null int64\n",
      "cool                  1518169 non-null int64\n",
      "fans                  1518169 non-null int64\n",
      "compliment_photos     1518169 non-null int64\n",
      "name                  1517693 non-null object\n",
      "compliment_more       1518169 non-null int64\n",
      "compliment_plain      1518169 non-null int64\n",
      "compliment_funny      1518169 non-null int64\n",
      "compliment_cute       1518169 non-null int64\n",
      "average_stars         1518169 non-null float64\n",
      "dtypes: float64(1), int64(16), object(5)\n",
      "memory usage: 254.8+ MB\n",
      "None\n",
      "   compliment_cool elite  useful                 user_id  compliment_writer  \\\n",
      "0                0  None       0  lzlZwIpuSWXEnNS91wxjHw                  0   \n",
      "1                0  None       0  XvLBr-9smbI0m_a7dXtB7w                  0   \n",
      "\n",
      "   review_count  funny  compliment_list  compliment_profile  compliment_note  \\\n",
      "0             1      0                0                   0                0   \n",
      "1             2      0                0                   0                0   \n",
      "\n",
      "       ...       compliment_hot cool  fans  compliment_photos      name  \\\n",
      "0      ...                    0    0     0                  0     Susan   \n",
      "1      ...                    0    0     0                  0  Daipayan   \n",
      "\n",
      "   compliment_more compliment_plain  compliment_funny  compliment_cute  \\\n",
      "0                0                0                 0                0   \n",
      "1                0                0                 0                0   \n",
      "\n",
      "   average_stars  \n",
      "0            2.0  \n",
      "1            5.0  \n",
      "\n",
      "[2 rows x 22 columns]\n"
     ]
    }
   ],
   "source": [
    "print(user.info())\n",
    "print(user.head(2))"
   ]
  },
  {
   "cell_type": "code",
   "execution_count": 51,
   "metadata": {},
   "outputs": [
    {
     "name": "stdout",
     "output_type": "stream",
     "text": [
      "<class 'pandas.core.frame.DataFrame'>\n",
      "RangeIndex: 5996996 entries, 0 to 5996995\n",
      "Data columns (total 9 columns):\n",
      "user_id        object\n",
      "text           object\n",
      "useful         int64\n",
      "business_id    object\n",
      "date           object\n",
      "cool           int64\n",
      "review_id      object\n",
      "funny          int64\n",
      "stars          int64\n",
      "dtypes: int64(4), object(5)\n",
      "memory usage: 411.8+ MB\n",
      "None\n",
      "                  user_id                                               text  \\\n",
      "0  msQe1u7Z_XuqjGoqhB0J5g  The pizza was okay. Not the best I've had. I p...   \n",
      "1  msQe1u7Z_XuqjGoqhB0J5g  I love this place! My fiance And I go here atl...   \n",
      "\n",
      "   useful             business_id        date  cool               review_id  \\\n",
      "0       0  iCQpiavjjPzJ5_3gPD5Ebg  2011-02-25     0  x7mDIiDB3jEiPGPHOmDzyw   \n",
      "1       0  pomGBqfbxcqPv14c3XH-ZQ  2012-11-13     0  dDl8zu1vWPdKGihJrwQbpw   \n",
      "\n",
      "   funny  stars  \n",
      "0      0      2  \n",
      "1      0      5  \n"
     ]
    }
   ],
   "source": [
    "review = pd.read_csv('dataset/review.csv')\n",
    "print(review.info())\n",
    "print(review.head(2))"
   ]
  },
  {
   "cell_type": "code",
   "execution_count": null,
   "metadata": {},
   "outputs": [],
   "source": []
  }
 ],
 "metadata": {
  "kernelspec": {
   "display_name": "Python 3",
   "language": "python",
   "name": "python3"
  },
  "language_info": {
   "codemirror_mode": {
    "name": "ipython",
    "version": 3
   },
   "file_extension": ".py",
   "mimetype": "text/x-python",
   "name": "python",
   "nbconvert_exporter": "python",
   "pygments_lexer": "ipython3",
   "version": "3.6.5"
  }
 },
 "nbformat": 4,
 "nbformat_minor": 2
}
